{
 "cells": [
  {
   "cell_type": "markdown",
   "id": "3abd9898-1beb-48fa-bf76-91554e7fdbd5",
   "metadata": {},
   "source": [
    "# Applying Advanced Transformations (Core)"
   ]
  },
  {
   "cell_type": "markdown",
   "id": "1878f577-f30d-432f-a80d-d79f197ddc0c",
   "metadata": {},
   "source": [
    "#### Import Library"
   ]
  },
  {
   "cell_type": "code",
   "execution_count": 12,
   "id": "1702eae6-f6e0-4d8c-b239-30ba8c8e3902",
   "metadata": {},
   "outputs": [],
   "source": [
    "## standard imports\n",
    "import numpy as np\n",
    "import pandas as pd\n",
    "import matplotlib.pyplot as plt\n",
    "import seaborn as sns\n",
    "## Importing the OS and JSON Modules\n",
    "import os,json"
   ]
  },
  {
   "cell_type": "markdown",
   "id": "8630a255-d4c8-4260-bd5d-7ee7c7d502e8",
   "metadata": {},
   "source": [
    "#### Loading dataframes"
   ]
  },
  {
   "cell_type": "code",
   "execution_count": 13,
   "id": "e985ea59-e655-4e76-9d3e-c364d71857e3",
   "metadata": {},
   "outputs": [],
   "source": [
    "sh_info = pd.read_csv(\"data/superhero_infosuperhero_info.csv\")"
   ]
  },
  {
   "cell_type": "code",
   "execution_count": 40,
   "id": "e0e7e27c-b6eb-45cf-8043-fa254d7c44dd",
   "metadata": {},
   "outputs": [],
   "source": [
    "sh_powers = pd.read_csv(\"data/superhero_powers - superhero_powers.csv\")"
   ]
  },
  {
   "cell_type": "markdown",
   "id": "34671b86-d386-4033-ad10-c4d179e04993",
   "metadata": {},
   "source": [
    "#### Reviewing Super Hero Info df"
   ]
  },
  {
   "cell_type": "code",
   "execution_count": 15,
   "id": "1ceb9b4d-130d-4698-ac9c-7c01c277677d",
   "metadata": {},
   "outputs": [
    {
     "data": {
      "text/html": [
       "<div>\n",
       "<style scoped>\n",
       "    .dataframe tbody tr th:only-of-type {\n",
       "        vertical-align: middle;\n",
       "    }\n",
       "\n",
       "    .dataframe tbody tr th {\n",
       "        vertical-align: top;\n",
       "    }\n",
       "\n",
       "    .dataframe thead th {\n",
       "        text-align: right;\n",
       "    }\n",
       "</style>\n",
       "<table border=\"1\" class=\"dataframe\">\n",
       "  <thead>\n",
       "    <tr style=\"text-align: right;\">\n",
       "      <th></th>\n",
       "      <th>Hero|Publisher</th>\n",
       "      <th>Gender</th>\n",
       "      <th>Race</th>\n",
       "      <th>Alignment</th>\n",
       "      <th>Hair color</th>\n",
       "      <th>Eye color</th>\n",
       "      <th>Skin color</th>\n",
       "      <th>Measurements</th>\n",
       "    </tr>\n",
       "  </thead>\n",
       "  <tbody>\n",
       "    <tr>\n",
       "      <th>0</th>\n",
       "      <td>A-Bomb|Marvel Comics</td>\n",
       "      <td>Male</td>\n",
       "      <td>Human</td>\n",
       "      <td>good</td>\n",
       "      <td>No Hair</td>\n",
       "      <td>yellow</td>\n",
       "      <td>Unknown</td>\n",
       "      <td>{'Height': '203.0 cm', 'Weight': '441.0 kg'}</td>\n",
       "    </tr>\n",
       "    <tr>\n",
       "      <th>1</th>\n",
       "      <td>Abe Sapien|Dark Horse Comics</td>\n",
       "      <td>Male</td>\n",
       "      <td>Icthyo Sapien</td>\n",
       "      <td>good</td>\n",
       "      <td>No Hair</td>\n",
       "      <td>blue</td>\n",
       "      <td>blue</td>\n",
       "      <td>{'Height': '191.0 cm', 'Weight': '65.0 kg'}</td>\n",
       "    </tr>\n",
       "    <tr>\n",
       "      <th>2</th>\n",
       "      <td>Abin Sur|DC Comics</td>\n",
       "      <td>Male</td>\n",
       "      <td>Ungaran</td>\n",
       "      <td>good</td>\n",
       "      <td>No Hair</td>\n",
       "      <td>blue</td>\n",
       "      <td>red</td>\n",
       "      <td>{'Height': '185.0 cm', 'Weight': '90.0 kg'}</td>\n",
       "    </tr>\n",
       "    <tr>\n",
       "      <th>3</th>\n",
       "      <td>Abomination|Marvel Comics</td>\n",
       "      <td>Male</td>\n",
       "      <td>Human / Radiation</td>\n",
       "      <td>bad</td>\n",
       "      <td>No Hair</td>\n",
       "      <td>green</td>\n",
       "      <td>Unknown</td>\n",
       "      <td>{'Height': '203.0 cm', 'Weight': '441.0 kg'}</td>\n",
       "    </tr>\n",
       "    <tr>\n",
       "      <th>4</th>\n",
       "      <td>Absorbing Man|Marvel Comics</td>\n",
       "      <td>Male</td>\n",
       "      <td>Human</td>\n",
       "      <td>bad</td>\n",
       "      <td>No Hair</td>\n",
       "      <td>blue</td>\n",
       "      <td>Unknown</td>\n",
       "      <td>{'Height': '193.0 cm', 'Weight': '122.0 kg'}</td>\n",
       "    </tr>\n",
       "  </tbody>\n",
       "</table>\n",
       "</div>"
      ],
      "text/plain": [
       "                 Hero|Publisher Gender               Race Alignment  \\\n",
       "0          A-Bomb|Marvel Comics   Male              Human      good   \n",
       "1  Abe Sapien|Dark Horse Comics   Male      Icthyo Sapien      good   \n",
       "2            Abin Sur|DC Comics   Male            Ungaran      good   \n",
       "3     Abomination|Marvel Comics   Male  Human / Radiation       bad   \n",
       "4   Absorbing Man|Marvel Comics   Male              Human       bad   \n",
       "\n",
       "  Hair color Eye color Skin color  \\\n",
       "0    No Hair    yellow    Unknown   \n",
       "1    No Hair      blue       blue   \n",
       "2    No Hair      blue        red   \n",
       "3    No Hair     green    Unknown   \n",
       "4    No Hair      blue    Unknown   \n",
       "\n",
       "                                   Measurements  \n",
       "0  {'Height': '203.0 cm', 'Weight': '441.0 kg'}  \n",
       "1   {'Height': '191.0 cm', 'Weight': '65.0 kg'}  \n",
       "2   {'Height': '185.0 cm', 'Weight': '90.0 kg'}  \n",
       "3  {'Height': '203.0 cm', 'Weight': '441.0 kg'}  \n",
       "4  {'Height': '193.0 cm', 'Weight': '122.0 kg'}  "
      ]
     },
     "execution_count": 15,
     "metadata": {},
     "output_type": "execute_result"
    }
   ],
   "source": [
    "sh_info.head()"
   ]
  },
  {
   "cell_type": "markdown",
   "id": "3d3fbe86-5a41-4d33-80a0-a3fd0403ad31",
   "metadata": {},
   "source": [
    "#### Focusing on Hero|Publisher Column"
   ]
  },
  {
   "cell_type": "code",
   "execution_count": 16,
   "id": "7aa6f418-bb0d-4be9-8969-9dd656be1b36",
   "metadata": {},
   "outputs": [
    {
     "data": {
      "text/plain": [
       "0               A-Bomb|Marvel Comics\n",
       "1       Abe Sapien|Dark Horse Comics\n",
       "2                 Abin Sur|DC Comics\n",
       "3          Abomination|Marvel Comics\n",
       "4        Absorbing Man|Marvel Comics\n",
       "                   ...              \n",
       "458       Yellowjacket|Marvel Comics\n",
       "459    Yellowjacket II|Marvel Comics\n",
       "460                Yoda|George Lucas\n",
       "461                Zatanna|DC Comics\n",
       "462                   Zoom|DC Comics\n",
       "Name: Hero|Publisher, Length: 463, dtype: object"
      ]
     },
     "execution_count": 16,
     "metadata": {},
     "output_type": "execute_result"
    }
   ],
   "source": [
    "sh_info['Hero|Publisher']"
   ]
  },
  {
   "cell_type": "code",
   "execution_count": 17,
   "id": "6779a17c-78f1-43d9-aad8-286beb40d4cd",
   "metadata": {},
   "outputs": [
    {
     "data": {
      "text/html": [
       "<div>\n",
       "<style scoped>\n",
       "    .dataframe tbody tr th:only-of-type {\n",
       "        vertical-align: middle;\n",
       "    }\n",
       "\n",
       "    .dataframe tbody tr th {\n",
       "        vertical-align: top;\n",
       "    }\n",
       "\n",
       "    .dataframe thead th {\n",
       "        text-align: right;\n",
       "    }\n",
       "</style>\n",
       "<table border=\"1\" class=\"dataframe\">\n",
       "  <thead>\n",
       "    <tr style=\"text-align: right;\">\n",
       "      <th></th>\n",
       "      <th>0</th>\n",
       "      <th>1</th>\n",
       "    </tr>\n",
       "  </thead>\n",
       "  <tbody>\n",
       "    <tr>\n",
       "      <th>0</th>\n",
       "      <td>A-Bomb</td>\n",
       "      <td>Marvel Comics</td>\n",
       "    </tr>\n",
       "    <tr>\n",
       "      <th>1</th>\n",
       "      <td>Abe Sapien</td>\n",
       "      <td>Dark Horse Comics</td>\n",
       "    </tr>\n",
       "    <tr>\n",
       "      <th>2</th>\n",
       "      <td>Abin Sur</td>\n",
       "      <td>DC Comics</td>\n",
       "    </tr>\n",
       "    <tr>\n",
       "      <th>3</th>\n",
       "      <td>Abomination</td>\n",
       "      <td>Marvel Comics</td>\n",
       "    </tr>\n",
       "    <tr>\n",
       "      <th>4</th>\n",
       "      <td>Absorbing Man</td>\n",
       "      <td>Marvel Comics</td>\n",
       "    </tr>\n",
       "    <tr>\n",
       "      <th>...</th>\n",
       "      <td>...</td>\n",
       "      <td>...</td>\n",
       "    </tr>\n",
       "    <tr>\n",
       "      <th>458</th>\n",
       "      <td>Yellowjacket</td>\n",
       "      <td>Marvel Comics</td>\n",
       "    </tr>\n",
       "    <tr>\n",
       "      <th>459</th>\n",
       "      <td>Yellowjacket II</td>\n",
       "      <td>Marvel Comics</td>\n",
       "    </tr>\n",
       "    <tr>\n",
       "      <th>460</th>\n",
       "      <td>Yoda</td>\n",
       "      <td>George Lucas</td>\n",
       "    </tr>\n",
       "    <tr>\n",
       "      <th>461</th>\n",
       "      <td>Zatanna</td>\n",
       "      <td>DC Comics</td>\n",
       "    </tr>\n",
       "    <tr>\n",
       "      <th>462</th>\n",
       "      <td>Zoom</td>\n",
       "      <td>DC Comics</td>\n",
       "    </tr>\n",
       "  </tbody>\n",
       "</table>\n",
       "<p>463 rows × 2 columns</p>\n",
       "</div>"
      ],
      "text/plain": [
       "                   0                  1\n",
       "0             A-Bomb      Marvel Comics\n",
       "1         Abe Sapien  Dark Horse Comics\n",
       "2           Abin Sur          DC Comics\n",
       "3        Abomination      Marvel Comics\n",
       "4      Absorbing Man      Marvel Comics\n",
       "..               ...                ...\n",
       "458     Yellowjacket      Marvel Comics\n",
       "459  Yellowjacket II      Marvel Comics\n",
       "460             Yoda       George Lucas\n",
       "461          Zatanna          DC Comics\n",
       "462             Zoom          DC Comics\n",
       "\n",
       "[463 rows x 2 columns]"
      ]
     },
     "execution_count": 17,
     "metadata": {},
     "output_type": "execute_result"
    }
   ],
   "source": [
    "sh_info['Hero|Publisher'].str.split('|',expand=True)"
   ]
  },
  {
   "cell_type": "markdown",
   "id": "17e2ce0e-432a-4396-8d99-f89bd8918f6e",
   "metadata": {},
   "source": [
    "#### Transforming Column"
   ]
  },
  {
   "cell_type": "code",
   "execution_count": 18,
   "id": "4890fa04-9405-442d-843f-4a682ce48a77",
   "metadata": {},
   "outputs": [
    {
     "data": {
      "text/html": [
       "<div>\n",
       "<style scoped>\n",
       "    .dataframe tbody tr th:only-of-type {\n",
       "        vertical-align: middle;\n",
       "    }\n",
       "\n",
       "    .dataframe tbody tr th {\n",
       "        vertical-align: top;\n",
       "    }\n",
       "\n",
       "    .dataframe thead th {\n",
       "        text-align: right;\n",
       "    }\n",
       "</style>\n",
       "<table border=\"1\" class=\"dataframe\">\n",
       "  <thead>\n",
       "    <tr style=\"text-align: right;\">\n",
       "      <th></th>\n",
       "      <th>Hero|Publisher</th>\n",
       "      <th>Gender</th>\n",
       "      <th>Race</th>\n",
       "      <th>Alignment</th>\n",
       "      <th>Hair color</th>\n",
       "      <th>Eye color</th>\n",
       "      <th>Skin color</th>\n",
       "      <th>Measurements</th>\n",
       "      <th>Hero</th>\n",
       "      <th>Publisher</th>\n",
       "    </tr>\n",
       "  </thead>\n",
       "  <tbody>\n",
       "    <tr>\n",
       "      <th>0</th>\n",
       "      <td>A-Bomb|Marvel Comics</td>\n",
       "      <td>Male</td>\n",
       "      <td>Human</td>\n",
       "      <td>good</td>\n",
       "      <td>No Hair</td>\n",
       "      <td>yellow</td>\n",
       "      <td>Unknown</td>\n",
       "      <td>{'Height': '203.0 cm', 'Weight': '441.0 kg'}</td>\n",
       "      <td>A-Bomb</td>\n",
       "      <td>Marvel Comics</td>\n",
       "    </tr>\n",
       "    <tr>\n",
       "      <th>1</th>\n",
       "      <td>Abe Sapien|Dark Horse Comics</td>\n",
       "      <td>Male</td>\n",
       "      <td>Icthyo Sapien</td>\n",
       "      <td>good</td>\n",
       "      <td>No Hair</td>\n",
       "      <td>blue</td>\n",
       "      <td>blue</td>\n",
       "      <td>{'Height': '191.0 cm', 'Weight': '65.0 kg'}</td>\n",
       "      <td>Abe Sapien</td>\n",
       "      <td>Dark Horse Comics</td>\n",
       "    </tr>\n",
       "  </tbody>\n",
       "</table>\n",
       "</div>"
      ],
      "text/plain": [
       "                 Hero|Publisher Gender           Race Alignment Hair color  \\\n",
       "0          A-Bomb|Marvel Comics   Male          Human      good    No Hair   \n",
       "1  Abe Sapien|Dark Horse Comics   Male  Icthyo Sapien      good    No Hair   \n",
       "\n",
       "  Eye color Skin color                                  Measurements  \\\n",
       "0    yellow    Unknown  {'Height': '203.0 cm', 'Weight': '441.0 kg'}   \n",
       "1      blue       blue   {'Height': '191.0 cm', 'Weight': '65.0 kg'}   \n",
       "\n",
       "         Hero          Publisher  \n",
       "0      A-Bomb      Marvel Comics  \n",
       "1  Abe Sapien  Dark Horse Comics  "
      ]
     },
     "execution_count": 18,
     "metadata": {},
     "output_type": "execute_result"
    }
   ],
   "source": [
    "sh_info[['Hero','Publisher']] = sh_info['Hero|Publisher'].str.split('|',expand=True)\n",
    "sh_info.head(2)"
   ]
  },
  {
   "cell_type": "markdown",
   "id": "8ea03450-c516-4b99-86f5-ca2d2a890eb0",
   "metadata": {},
   "source": [
    "#### Dropping Column"
   ]
  },
  {
   "cell_type": "code",
   "execution_count": 19,
   "id": "ea83f87f-4c8f-4bca-a926-beee63a77439",
   "metadata": {},
   "outputs": [],
   "source": [
    "## drop the original column\n",
    "sh_info = sh_info.drop(columns=['Hero|Publisher'])"
   ]
  },
  {
   "cell_type": "code",
   "execution_count": 20,
   "id": "7eace272-0c78-4be8-bc79-23450d7a4a4c",
   "metadata": {
    "tags": []
   },
   "outputs": [
    {
     "data": {
      "text/html": [
       "<div>\n",
       "<style scoped>\n",
       "    .dataframe tbody tr th:only-of-type {\n",
       "        vertical-align: middle;\n",
       "    }\n",
       "\n",
       "    .dataframe tbody tr th {\n",
       "        vertical-align: top;\n",
       "    }\n",
       "\n",
       "    .dataframe thead th {\n",
       "        text-align: right;\n",
       "    }\n",
       "</style>\n",
       "<table border=\"1\" class=\"dataframe\">\n",
       "  <thead>\n",
       "    <tr style=\"text-align: right;\">\n",
       "      <th></th>\n",
       "      <th>Gender</th>\n",
       "      <th>Race</th>\n",
       "      <th>Alignment</th>\n",
       "      <th>Hair color</th>\n",
       "      <th>Eye color</th>\n",
       "      <th>Skin color</th>\n",
       "      <th>Measurements</th>\n",
       "      <th>Hero</th>\n",
       "      <th>Publisher</th>\n",
       "    </tr>\n",
       "  </thead>\n",
       "  <tbody>\n",
       "    <tr>\n",
       "      <th>0</th>\n",
       "      <td>Male</td>\n",
       "      <td>Human</td>\n",
       "      <td>good</td>\n",
       "      <td>No Hair</td>\n",
       "      <td>yellow</td>\n",
       "      <td>Unknown</td>\n",
       "      <td>{'Height': '203.0 cm', 'Weight': '441.0 kg'}</td>\n",
       "      <td>A-Bomb</td>\n",
       "      <td>Marvel Comics</td>\n",
       "    </tr>\n",
       "    <tr>\n",
       "      <th>1</th>\n",
       "      <td>Male</td>\n",
       "      <td>Icthyo Sapien</td>\n",
       "      <td>good</td>\n",
       "      <td>No Hair</td>\n",
       "      <td>blue</td>\n",
       "      <td>blue</td>\n",
       "      <td>{'Height': '191.0 cm', 'Weight': '65.0 kg'}</td>\n",
       "      <td>Abe Sapien</td>\n",
       "      <td>Dark Horse Comics</td>\n",
       "    </tr>\n",
       "    <tr>\n",
       "      <th>2</th>\n",
       "      <td>Male</td>\n",
       "      <td>Ungaran</td>\n",
       "      <td>good</td>\n",
       "      <td>No Hair</td>\n",
       "      <td>blue</td>\n",
       "      <td>red</td>\n",
       "      <td>{'Height': '185.0 cm', 'Weight': '90.0 kg'}</td>\n",
       "      <td>Abin Sur</td>\n",
       "      <td>DC Comics</td>\n",
       "    </tr>\n",
       "    <tr>\n",
       "      <th>3</th>\n",
       "      <td>Male</td>\n",
       "      <td>Human / Radiation</td>\n",
       "      <td>bad</td>\n",
       "      <td>No Hair</td>\n",
       "      <td>green</td>\n",
       "      <td>Unknown</td>\n",
       "      <td>{'Height': '203.0 cm', 'Weight': '441.0 kg'}</td>\n",
       "      <td>Abomination</td>\n",
       "      <td>Marvel Comics</td>\n",
       "    </tr>\n",
       "    <tr>\n",
       "      <th>4</th>\n",
       "      <td>Male</td>\n",
       "      <td>Human</td>\n",
       "      <td>bad</td>\n",
       "      <td>No Hair</td>\n",
       "      <td>blue</td>\n",
       "      <td>Unknown</td>\n",
       "      <td>{'Height': '193.0 cm', 'Weight': '122.0 kg'}</td>\n",
       "      <td>Absorbing Man</td>\n",
       "      <td>Marvel Comics</td>\n",
       "    </tr>\n",
       "  </tbody>\n",
       "</table>\n",
       "</div>"
      ],
      "text/plain": [
       "  Gender               Race Alignment Hair color Eye color Skin color  \\\n",
       "0   Male              Human      good    No Hair    yellow    Unknown   \n",
       "1   Male      Icthyo Sapien      good    No Hair      blue       blue   \n",
       "2   Male            Ungaran      good    No Hair      blue        red   \n",
       "3   Male  Human / Radiation       bad    No Hair     green    Unknown   \n",
       "4   Male              Human       bad    No Hair      blue    Unknown   \n",
       "\n",
       "                                   Measurements           Hero  \\\n",
       "0  {'Height': '203.0 cm', 'Weight': '441.0 kg'}         A-Bomb   \n",
       "1   {'Height': '191.0 cm', 'Weight': '65.0 kg'}     Abe Sapien   \n",
       "2   {'Height': '185.0 cm', 'Weight': '90.0 kg'}       Abin Sur   \n",
       "3  {'Height': '203.0 cm', 'Weight': '441.0 kg'}    Abomination   \n",
       "4  {'Height': '193.0 cm', 'Weight': '122.0 kg'}  Absorbing Man   \n",
       "\n",
       "           Publisher  \n",
       "0      Marvel Comics  \n",
       "1  Dark Horse Comics  \n",
       "2          DC Comics  \n",
       "3      Marvel Comics  \n",
       "4      Marvel Comics  "
      ]
     },
     "execution_count": 20,
     "metadata": {},
     "output_type": "execute_result"
    }
   ],
   "source": [
    "sh_info.head()"
   ]
  },
  {
   "cell_type": "markdown",
   "id": "fc18be47-b3fd-4168-879f-cdeb280294f1",
   "metadata": {},
   "source": [
    "#### Focusing on Measurements Column"
   ]
  },
  {
   "cell_type": "code",
   "execution_count": 21,
   "id": "ec3f9a9a-5b99-47d8-afdb-c96ba26964c9",
   "metadata": {},
   "outputs": [
    {
     "name": "stdout",
     "output_type": "stream",
     "text": [
      "<class 'str'>\n"
     ]
    },
    {
     "data": {
      "text/plain": [
       "\"{'Height': '203.0 cm', 'Weight': '441.0 kg'}\""
      ]
     },
     "execution_count": 21,
     "metadata": {},
     "output_type": "execute_result"
    }
   ],
   "source": [
    "## examining a single value from the coordinates col\n",
    "htwt = sh_info.loc[0,\"Measurements\"]\n",
    "print(type(htwt))\n",
    "htwt\n"
   ]
  },
  {
   "cell_type": "markdown",
   "id": "b63eb0bc-f660-4ea6-a935-ecf705be2fd5",
   "metadata": {},
   "source": [
    "#### Formatting Column"
   ]
  },
  {
   "cell_type": "code",
   "execution_count": 22,
   "id": "72d1572b-116a-4b7c-8178-0231513da4f7",
   "metadata": {},
   "outputs": [
    {
     "data": {
      "text/plain": [
       "0    {'Height': '203.0 cm', 'Weight': '441.0 kg'}\n",
       "1     {'Height': '191.0 cm', 'Weight': '65.0 kg'}\n",
       "2     {'Height': '185.0 cm', 'Weight': '90.0 kg'}\n",
       "3    {'Height': '203.0 cm', 'Weight': '441.0 kg'}\n",
       "4    {'Height': '193.0 cm', 'Weight': '122.0 kg'}\n",
       "Name: Measurements, dtype: object"
      ]
     },
     "execution_count": 22,
     "metadata": {},
     "output_type": "execute_result"
    }
   ],
   "source": [
    "## use .str.replace to replace all single quotes\n",
    "sh_info['Measurements'] = sh_info['Measurements'].str.replace(\"'\",'\"')\n",
    "## Apply the json.loads to the full column\n",
    "sh_info['Measurements'] = sh_info['Measurements'].apply(json.loads)\n",
    "sh_info['Measurements'].head()\n",
    "\n"
   ]
  },
  {
   "cell_type": "markdown",
   "id": "71145f00-866b-4757-965b-a59c6975a002",
   "metadata": {},
   "source": [
    "#### Unpacking Dictionaries"
   ]
  },
  {
   "cell_type": "code",
   "execution_count": 23,
   "id": "dfb67777-a9c0-4b23-a602-0630d8cfc935",
   "metadata": {},
   "outputs": [
    {
     "data": {
      "text/html": [
       "<div>\n",
       "<style scoped>\n",
       "    .dataframe tbody tr th:only-of-type {\n",
       "        vertical-align: middle;\n",
       "    }\n",
       "\n",
       "    .dataframe tbody tr th {\n",
       "        vertical-align: top;\n",
       "    }\n",
       "\n",
       "    .dataframe thead th {\n",
       "        text-align: right;\n",
       "    }\n",
       "</style>\n",
       "<table border=\"1\" class=\"dataframe\">\n",
       "  <thead>\n",
       "    <tr style=\"text-align: right;\">\n",
       "      <th></th>\n",
       "      <th>Height</th>\n",
       "      <th>Weight</th>\n",
       "    </tr>\n",
       "  </thead>\n",
       "  <tbody>\n",
       "    <tr>\n",
       "      <th>0</th>\n",
       "      <td>203.0 cm</td>\n",
       "      <td>441.0 kg</td>\n",
       "    </tr>\n",
       "    <tr>\n",
       "      <th>1</th>\n",
       "      <td>191.0 cm</td>\n",
       "      <td>65.0 kg</td>\n",
       "    </tr>\n",
       "    <tr>\n",
       "      <th>2</th>\n",
       "      <td>185.0 cm</td>\n",
       "      <td>90.0 kg</td>\n",
       "    </tr>\n",
       "    <tr>\n",
       "      <th>3</th>\n",
       "      <td>203.0 cm</td>\n",
       "      <td>441.0 kg</td>\n",
       "    </tr>\n",
       "    <tr>\n",
       "      <th>4</th>\n",
       "      <td>193.0 cm</td>\n",
       "      <td>122.0 kg</td>\n",
       "    </tr>\n",
       "    <tr>\n",
       "      <th>...</th>\n",
       "      <td>...</td>\n",
       "      <td>...</td>\n",
       "    </tr>\n",
       "    <tr>\n",
       "      <th>458</th>\n",
       "      <td>183.0 cm</td>\n",
       "      <td>83.0 kg</td>\n",
       "    </tr>\n",
       "    <tr>\n",
       "      <th>459</th>\n",
       "      <td>165.0 cm</td>\n",
       "      <td>52.0 kg</td>\n",
       "    </tr>\n",
       "    <tr>\n",
       "      <th>460</th>\n",
       "      <td>66.0 cm</td>\n",
       "      <td>17.0 kg</td>\n",
       "    </tr>\n",
       "    <tr>\n",
       "      <th>461</th>\n",
       "      <td>170.0 cm</td>\n",
       "      <td>57.0 kg</td>\n",
       "    </tr>\n",
       "    <tr>\n",
       "      <th>462</th>\n",
       "      <td>185.0 cm</td>\n",
       "      <td>81.0 kg</td>\n",
       "    </tr>\n",
       "  </tbody>\n",
       "</table>\n",
       "<p>463 rows × 2 columns</p>\n",
       "</div>"
      ],
      "text/plain": [
       "       Height    Weight\n",
       "0    203.0 cm  441.0 kg\n",
       "1    191.0 cm   65.0 kg\n",
       "2    185.0 cm   90.0 kg\n",
       "3    203.0 cm  441.0 kg\n",
       "4    193.0 cm  122.0 kg\n",
       "..        ...       ...\n",
       "458  183.0 cm   83.0 kg\n",
       "459  165.0 cm   52.0 kg\n",
       "460   66.0 cm   17.0 kg\n",
       "461  170.0 cm   57.0 kg\n",
       "462  185.0 cm   81.0 kg\n",
       "\n",
       "[463 rows x 2 columns]"
      ]
     },
     "execution_count": 23,
     "metadata": {},
     "output_type": "execute_result"
    }
   ],
   "source": [
    "ht_wt = sh_info['Measurements'].apply(pd.Series)\n",
    "ht_wt"
   ]
  },
  {
   "cell_type": "markdown",
   "id": "e411714e-663f-4f9b-8f2b-d8e8d4b303df",
   "metadata": {},
   "source": [
    "#### Adding to DataFrame"
   ]
  },
  {
   "cell_type": "code",
   "execution_count": 24,
   "id": "d5193602-4b7b-4689-a5e8-d352eab3bec8",
   "metadata": {},
   "outputs": [
    {
     "data": {
      "text/html": [
       "<div>\n",
       "<style scoped>\n",
       "    .dataframe tbody tr th:only-of-type {\n",
       "        vertical-align: middle;\n",
       "    }\n",
       "\n",
       "    .dataframe tbody tr th {\n",
       "        vertical-align: top;\n",
       "    }\n",
       "\n",
       "    .dataframe thead th {\n",
       "        text-align: right;\n",
       "    }\n",
       "</style>\n",
       "<table border=\"1\" class=\"dataframe\">\n",
       "  <thead>\n",
       "    <tr style=\"text-align: right;\">\n",
       "      <th></th>\n",
       "      <th>Gender</th>\n",
       "      <th>Race</th>\n",
       "      <th>Alignment</th>\n",
       "      <th>Hair color</th>\n",
       "      <th>Eye color</th>\n",
       "      <th>Skin color</th>\n",
       "      <th>Measurements</th>\n",
       "      <th>Hero</th>\n",
       "      <th>Publisher</th>\n",
       "      <th>Height</th>\n",
       "      <th>Weight</th>\n",
       "    </tr>\n",
       "  </thead>\n",
       "  <tbody>\n",
       "    <tr>\n",
       "      <th>0</th>\n",
       "      <td>Male</td>\n",
       "      <td>Human</td>\n",
       "      <td>good</td>\n",
       "      <td>No Hair</td>\n",
       "      <td>yellow</td>\n",
       "      <td>Unknown</td>\n",
       "      <td>{'Height': '203.0 cm', 'Weight': '441.0 kg'}</td>\n",
       "      <td>A-Bomb</td>\n",
       "      <td>Marvel Comics</td>\n",
       "      <td>203.0 cm</td>\n",
       "      <td>441.0 kg</td>\n",
       "    </tr>\n",
       "    <tr>\n",
       "      <th>1</th>\n",
       "      <td>Male</td>\n",
       "      <td>Icthyo Sapien</td>\n",
       "      <td>good</td>\n",
       "      <td>No Hair</td>\n",
       "      <td>blue</td>\n",
       "      <td>blue</td>\n",
       "      <td>{'Height': '191.0 cm', 'Weight': '65.0 kg'}</td>\n",
       "      <td>Abe Sapien</td>\n",
       "      <td>Dark Horse Comics</td>\n",
       "      <td>191.0 cm</td>\n",
       "      <td>65.0 kg</td>\n",
       "    </tr>\n",
       "  </tbody>\n",
       "</table>\n",
       "</div>"
      ],
      "text/plain": [
       "  Gender           Race Alignment Hair color Eye color Skin color  \\\n",
       "0   Male          Human      good    No Hair    yellow    Unknown   \n",
       "1   Male  Icthyo Sapien      good    No Hair      blue       blue   \n",
       "\n",
       "                                   Measurements        Hero  \\\n",
       "0  {'Height': '203.0 cm', 'Weight': '441.0 kg'}      A-Bomb   \n",
       "1   {'Height': '191.0 cm', 'Weight': '65.0 kg'}  Abe Sapien   \n",
       "\n",
       "           Publisher    Height    Weight  \n",
       "0      Marvel Comics  203.0 cm  441.0 kg  \n",
       "1  Dark Horse Comics  191.0 cm   65.0 kg  "
      ]
     },
     "execution_count": 24,
     "metadata": {},
     "output_type": "execute_result"
    }
   ],
   "source": [
    "sh_info =pd.concat((sh_info, ht_wt), axis = 1)\n",
    "sh_info.head(2)"
   ]
  },
  {
   "cell_type": "markdown",
   "id": "3667500e-4066-405f-9e81-f77c7d4166f6",
   "metadata": {},
   "source": [
    "#### Dropping Column"
   ]
  },
  {
   "cell_type": "code",
   "execution_count": 25,
   "id": "5204319a-74ad-4ed1-bb40-53e0801c1fef",
   "metadata": {},
   "outputs": [],
   "source": [
    "sh_info = sh_info.drop(columns=['Measurements'])\n"
   ]
  },
  {
   "cell_type": "code",
   "execution_count": 26,
   "id": "e1c841c3-333a-4f59-bfae-3c6788eaad7d",
   "metadata": {
    "scrolled": true
   },
   "outputs": [
    {
     "data": {
      "text/html": [
       "<div>\n",
       "<style scoped>\n",
       "    .dataframe tbody tr th:only-of-type {\n",
       "        vertical-align: middle;\n",
       "    }\n",
       "\n",
       "    .dataframe tbody tr th {\n",
       "        vertical-align: top;\n",
       "    }\n",
       "\n",
       "    .dataframe thead th {\n",
       "        text-align: right;\n",
       "    }\n",
       "</style>\n",
       "<table border=\"1\" class=\"dataframe\">\n",
       "  <thead>\n",
       "    <tr style=\"text-align: right;\">\n",
       "      <th></th>\n",
       "      <th>Gender</th>\n",
       "      <th>Race</th>\n",
       "      <th>Alignment</th>\n",
       "      <th>Hair color</th>\n",
       "      <th>Eye color</th>\n",
       "      <th>Skin color</th>\n",
       "      <th>Hero</th>\n",
       "      <th>Publisher</th>\n",
       "      <th>Height</th>\n",
       "      <th>Weight</th>\n",
       "    </tr>\n",
       "  </thead>\n",
       "  <tbody>\n",
       "    <tr>\n",
       "      <th>0</th>\n",
       "      <td>Male</td>\n",
       "      <td>Human</td>\n",
       "      <td>good</td>\n",
       "      <td>No Hair</td>\n",
       "      <td>yellow</td>\n",
       "      <td>Unknown</td>\n",
       "      <td>A-Bomb</td>\n",
       "      <td>Marvel Comics</td>\n",
       "      <td>203.0 cm</td>\n",
       "      <td>441.0 kg</td>\n",
       "    </tr>\n",
       "    <tr>\n",
       "      <th>1</th>\n",
       "      <td>Male</td>\n",
       "      <td>Icthyo Sapien</td>\n",
       "      <td>good</td>\n",
       "      <td>No Hair</td>\n",
       "      <td>blue</td>\n",
       "      <td>blue</td>\n",
       "      <td>Abe Sapien</td>\n",
       "      <td>Dark Horse Comics</td>\n",
       "      <td>191.0 cm</td>\n",
       "      <td>65.0 kg</td>\n",
       "    </tr>\n",
       "  </tbody>\n",
       "</table>\n",
       "</div>"
      ],
      "text/plain": [
       "  Gender           Race Alignment Hair color Eye color Skin color        Hero  \\\n",
       "0   Male          Human      good    No Hair    yellow    Unknown      A-Bomb   \n",
       "1   Male  Icthyo Sapien      good    No Hair      blue       blue  Abe Sapien   \n",
       "\n",
       "           Publisher    Height    Weight  \n",
       "0      Marvel Comics  203.0 cm  441.0 kg  \n",
       "1  Dark Horse Comics  191.0 cm   65.0 kg  "
      ]
     },
     "execution_count": 26,
     "metadata": {},
     "output_type": "execute_result"
    }
   ],
   "source": [
    "sh_info.head(2)"
   ]
  },
  {
   "cell_type": "markdown",
   "id": "f441ea47",
   "metadata": {},
   "source": [
    "\n",
    "#### Unique values"
   ]
  },
  {
   "cell_type": "code",
   "execution_count": 27,
   "id": "ac3b92bf",
   "metadata": {
    "scrolled": true
   },
   "outputs": [
    {
     "data": {
      "text/plain": [
       "array(['441.0 kg', '65.0 kg', '90.0 kg', '122.0 kg', '88.0 kg', '81.0 kg',\n",
       "       '104.0 kg', '108.0 kg', '169.0 kg', '173.0 kg', '101.0 kg',\n",
       "       '68.0 kg', '57.0 kg', '54.0 kg', '83.0 kg', '86.0 kg', '358.0 kg',\n",
       "       '135.0 kg', '106.0 kg', '146.0 kg', '63.0 kg', '98.0 kg',\n",
       "       '270.0 kg', '59.0 kg', '50.0 kg', '126.0 kg', '67.0 kg',\n",
       "       '180.0 kg', '77.0 kg', '52.0 kg', '61.0 kg', '95.0 kg', '79.0 kg',\n",
       "       '133.0 kg', '181.0 kg', '216.0 kg', '71.0 kg', '124.0 kg',\n",
       "       '155.0 kg', '113.0 kg', '58.0 kg', '92.0 kg', '97.0 kg', '56.0 kg',\n",
       "       '230.0 kg', '495.0 kg', '55.0 kg', '99.0 kg', '158.0 kg',\n",
       "       '74.0 kg', '116.0 kg', '170.0 kg', '70.0 kg', '225.0 kg',\n",
       "       '817.0 kg', '27.0 kg', '91.0 kg', '178.0 kg', '383.0 kg',\n",
       "       '171.0 kg', '187.0 kg', '132.0 kg', '89.0 kg', '110.0 kg',\n",
       "       '412.0 kg', '306.0 kg', '80.0 kg', '203.0 kg', '96.0 kg',\n",
       "       '18.0 kg', '45.0 kg', '167.0 kg', '16.0 kg', '630.0 kg',\n",
       "       '268.0 kg', '62.0 kg', '115.0 kg', '4.0 kg', '48.0 kg', '119.0 kg',\n",
       "       '207.0 kg', '191.0 kg', '14.0 kg', '49.0 kg', '855.0 kg',\n",
       "       '72.0 kg', '356.0 kg', '324.0 kg', '360.0 kg', '288.0 kg',\n",
       "       '236.0 kg', '36.0 kg', '140.0 kg', '128.0 kg', '338.0 kg',\n",
       "       '248.0 kg', '125.0 kg', '85.0 kg', '293.0 kg', '69.0 kg',\n",
       "       '405.0 kg', '87.0 kg', '234.0 kg', '117.0 kg', '320.0 kg',\n",
       "       '38.0 kg', '25.0 kg', '900.0 kg', '310.0 kg', '149.0 kg',\n",
       "       '315.0 kg', '153.0 kg', '437.0 kg', '131.0 kg', '47.0 kg',\n",
       "       '443.0 kg', '143.0 kg', '76.0 kg', '105.0 kg', '331.0 kg',\n",
       "       '214.0 kg', '73.0 kg', '334.0 kg', '41.0 kg', '162.0 kg',\n",
       "       '473.0 kg', '51.0 kg', '17.0 kg'], dtype=object)"
      ]
     },
     "execution_count": 27,
     "metadata": {},
     "output_type": "execute_result"
    }
   ],
   "source": [
    "sh_info['Weight'].unique()"
   ]
  },
  {
   "cell_type": "code",
   "execution_count": 28,
   "id": "60ac8017",
   "metadata": {},
   "outputs": [
    {
     "data": {
      "text/plain": [
       "array(['203.0 cm', '191.0 cm', '185.0 cm', '193.0 cm', '178.0 cm',\n",
       "       '188.0 cm', '180.0 cm', '244.0 cm', '257.0 cm', '183.0 cm',\n",
       "       '165.0 cm', '163.0 cm', '211.0 cm', '229.0 cm', '213.0 cm',\n",
       "       '175.0 cm', '173.0 cm', '198.0 cm', '168.0 cm', '170.0 cm',\n",
       "       '201.0 cm', '218.0 cm', '196.0 cm', '157.0 cm', '226.0 cm',\n",
       "       '267.0 cm', '122.0 cm', '975.0 cm', '142.0 cm', '876.0 cm',\n",
       "       '62.5 cm', '701.0 cm', '259.0 cm', '155.0 cm', '71.0 cm',\n",
       "       '287.0 cm', '234.0 cm', '64.0 cm', '366.0 cm', '206.0 cm',\n",
       "       '305.0 cm', '137.0 cm', '279.0 cm', '15.2 cm', '160.0 cm',\n",
       "       '66.0 cm'], dtype=object)"
      ]
     },
     "execution_count": 28,
     "metadata": {},
     "output_type": "execute_result"
    }
   ],
   "source": [
    "sh_info['Height'].unique()"
   ]
  },
  {
   "cell_type": "markdown",
   "id": "391b522c",
   "metadata": {},
   "source": [
    "#### Finding and removing duplicat rows"
   ]
  },
  {
   "cell_type": "code",
   "execution_count": 29,
   "id": "5d40e15d",
   "metadata": {
    "scrolled": true
   },
   "outputs": [
    {
     "data": {
      "text/plain": [
       "0"
      ]
     },
     "execution_count": 29,
     "metadata": {},
     "output_type": "execute_result"
    }
   ],
   "source": [
    "#find number of duplicat rows\n",
    "sh_info.duplicated().sum()\n"
   ]
  },
  {
   "cell_type": "markdown",
   "id": "eee5b097",
   "metadata": {},
   "source": [
    "#### Finding Missing Values"
   ]
  },
  {
   "cell_type": "code",
   "execution_count": 30,
   "id": "8e950c28",
   "metadata": {},
   "outputs": [
    {
     "name": "stdout",
     "output_type": "stream",
     "text": [
      "There are 0 missing values.\n"
     ]
    }
   ],
   "source": [
    "# Display the total number of missing values\n",
    "print(f'There are {sh_info.isna().sum().sum()} missing values.')"
   ]
  },
  {
   "cell_type": "markdown",
   "id": "66100b34",
   "metadata": {},
   "source": [
    "#### Reviewing Super Hero Powers df"
   ]
  },
  {
   "cell_type": "code",
   "execution_count": 41,
   "id": "9411c590",
   "metadata": {},
   "outputs": [
    {
     "data": {
      "text/html": [
       "<div>\n",
       "<style scoped>\n",
       "    .dataframe tbody tr th:only-of-type {\n",
       "        vertical-align: middle;\n",
       "    }\n",
       "\n",
       "    .dataframe tbody tr th {\n",
       "        vertical-align: top;\n",
       "    }\n",
       "\n",
       "    .dataframe thead th {\n",
       "        text-align: right;\n",
       "    }\n",
       "</style>\n",
       "<table border=\"1\" class=\"dataframe\">\n",
       "  <thead>\n",
       "    <tr style=\"text-align: right;\">\n",
       "      <th></th>\n",
       "      <th>hero_names</th>\n",
       "      <th>Powers</th>\n",
       "    </tr>\n",
       "  </thead>\n",
       "  <tbody>\n",
       "    <tr>\n",
       "      <th>0</th>\n",
       "      <td>3-D Man</td>\n",
       "      <td>Agility,Super Strength,Stamina,Super Speed</td>\n",
       "    </tr>\n",
       "    <tr>\n",
       "      <th>1</th>\n",
       "      <td>A-Bomb</td>\n",
       "      <td>Accelerated Healing,Durability,Longevity,Super...</td>\n",
       "    </tr>\n",
       "    <tr>\n",
       "      <th>2</th>\n",
       "      <td>Abe Sapien</td>\n",
       "      <td>Agility,Accelerated Healing,Cold Resistance,Du...</td>\n",
       "    </tr>\n",
       "    <tr>\n",
       "      <th>3</th>\n",
       "      <td>Abin Sur</td>\n",
       "      <td>Lantern Power Ring</td>\n",
       "    </tr>\n",
       "    <tr>\n",
       "      <th>4</th>\n",
       "      <td>Abomination</td>\n",
       "      <td>Accelerated Healing,Intelligence,Super Strengt...</td>\n",
       "    </tr>\n",
       "  </tbody>\n",
       "</table>\n",
       "</div>"
      ],
      "text/plain": [
       "    hero_names                                             Powers\n",
       "0      3-D Man         Agility,Super Strength,Stamina,Super Speed\n",
       "1       A-Bomb  Accelerated Healing,Durability,Longevity,Super...\n",
       "2   Abe Sapien  Agility,Accelerated Healing,Cold Resistance,Du...\n",
       "3     Abin Sur                                 Lantern Power Ring\n",
       "4  Abomination  Accelerated Healing,Intelligence,Super Strengt..."
      ]
     },
     "execution_count": 41,
     "metadata": {},
     "output_type": "execute_result"
    }
   ],
   "source": [
    "sh_powers.head()"
   ]
  },
  {
   "cell_type": "markdown",
   "id": "327a0756",
   "metadata": {},
   "source": [
    "#### Columns that contain lists"
   ]
  },
  {
   "cell_type": "code",
   "execution_count": 56,
   "id": "cfb61f48",
   "metadata": {},
   "outputs": [
    {
     "data": {
      "text/plain": [
       "0             Agility,Super Strength,Stamina,Super Speed\n",
       "1      Accelerated Healing,Durability,Longevity,Super...\n",
       "2      Agility,Accelerated Healing,Cold Resistance,Du...\n",
       "3                                     Lantern Power Ring\n",
       "4      Accelerated Healing,Intelligence,Super Strengt...\n",
       "                             ...                        \n",
       "662                   Flight,Energy Blasts,Size Changing\n",
       "663    Cold Resistance,Durability,Longevity,Super Str...\n",
       "664    Agility,Stealth,Danger Sense,Marksmanship,Weap...\n",
       "665    Cryokinesis,Telepathy,Magic,Fire Control,Proba...\n",
       "666    Super Speed,Intangibility,Time Travel,Time Man...\n",
       "Name: Powers, Length: 667, dtype: object"
      ]
     },
     "execution_count": 56,
     "metadata": {},
     "output_type": "execute_result"
    }
   ],
   "source": [
    "sh_powers['Powers']"
   ]
  },
  {
   "cell_type": "code",
   "execution_count": 74,
   "id": "b4579e6e",
   "metadata": {
    "scrolled": true
   },
   "outputs": [],
   "source": [
    "# Assuming your DataFrame is named 'sh_powers' and the column is named 'Powers'\n",
    "# Convert the 'Powers' column to string type\n",
    "sh_powers['Powers'] = sh_powers['Powers'].astype(str)\n",
    "\n"
   ]
  },
  {
   "cell_type": "code",
   "execution_count": 77,
   "id": "0817228e-1d02-4909-8d29-1f9e1e34a613",
   "metadata": {
    "collapsed": true,
    "jupyter": {
     "outputs_hidden": true
    },
    "tags": []
   },
   "outputs": [
    {
     "name": "stdout",
     "output_type": "stream",
     "text": [
      "          hero_names                                             Powers  \\\n",
      "0            3-D Man         Agility,Super Strength,Stamina,Super Speed   \n",
      "1             A-Bomb  Accelerated Healing,Durability,Longevity,Super...   \n",
      "2         Abe Sapien  Agility,Accelerated Healing,Cold Resistance,Du...   \n",
      "3           Abin Sur                                 Lantern Power Ring   \n",
      "4        Abomination  Accelerated Healing,Intelligence,Super Strengt...   \n",
      "..               ...                                                ...   \n",
      "662  Yellowjacket II                 Flight,Energy Blasts,Size Changing   \n",
      "663             Ymir  Cold Resistance,Durability,Longevity,Super Str...   \n",
      "664             Yoda  Agility,Stealth,Danger Sense,Marksmanship,Weap...   \n",
      "665          Zatanna  Cryokinesis,Telepathy,Magic,Fire Control,Proba...   \n",
      "666             Zoom  Super Speed,Intangibility,Time Travel,Time Man...   \n",
      "\n",
      "                                          powers_split  Accelerated Healing  \\\n",
      "0           Agility,Super Strength,Stamina,Super Speed                    0   \n",
      "1    Accelerated Healing,Durability,Longevity,Super...                    0   \n",
      "2    Agility,Accelerated Healing,Cold Resistance,Du...                    0   \n",
      "3                                   Lantern Power Ring                    0   \n",
      "4    Accelerated Healing,Intelligence,Super Strengt...                    0   \n",
      "..                                                 ...                  ...   \n",
      "662                 Flight,Energy Blasts,Size Changing                    0   \n",
      "663  Cold Resistance,Durability,Longevity,Super Str...                    0   \n",
      "664  Agility,Stealth,Danger Sense,Marksmanship,Weap...                    0   \n",
      "665  Cryokinesis,Telepathy,Magic,Fire Control,Proba...                    0   \n",
      "666  Super Speed,Intangibility,Time Travel,Time Man...                    0   \n",
      "\n",
      "     Accelerated Healing,Cold Resistance,Durability,Flight,Intelligence,Super Strength,Energy Blasts,Stamina,Super Speed,Heat Resistance  \\\n",
      "0                                                    0                                                                                     \n",
      "1                                                    0                                                                                     \n",
      "2                                                    0                                                                                     \n",
      "3                                                    0                                                                                     \n",
      "4                                                    0                                                                                     \n",
      "..                                                 ...                                                                                     \n",
      "662                                                  0                                                                                     \n",
      "663                                                  0                                                                                     \n",
      "664                                                  0                                                                                     \n",
      "665                                                  0                                                                                     \n",
      "666                                                  0                                                                                     \n",
      "\n",
      "     Accelerated Healing,Cold Resistance,Durability,Flight,Super Strength,Immortality,Reflexes,Vision - Telescopic  \\\n",
      "0                                                    0                                                               \n",
      "1                                                    0                                                               \n",
      "2                                                    0                                                               \n",
      "3                                                    0                                                               \n",
      "4                                                    0                                                               \n",
      "..                                                 ...                                                               \n",
      "662                                                  0                                                               \n",
      "663                                                  0                                                               \n",
      "664                                                  0                                                               \n",
      "665                                                  0                                                               \n",
      "666                                                  0                                                               \n",
      "\n",
      "     Accelerated Healing,Cold Resistance,Durability,Stealth,Marksmanship,Weapons Master,Longevity,Intelligence,Super Strength,Stamina,Jump,Camouflage,Reflexes,Power Suit,Natural Weapons,Cloaking,Toxin and Disease Resistance,Vision - Night,Vision - Infrared,Radar Sense,Vision - Thermal  \\\n",
      "0                                                    0                                                                                                                                                                                                                                          \n",
      "1                                                    0                                                                                                                                                                                                                                          \n",
      "2                                                    0                                                                                                                                                                                                                                          \n",
      "3                                                    0                                                                                                                                                                                                                                          \n",
      "4                                                    0                                                                                                                                                                                                                                          \n",
      "..                                                 ...                                                                                                                                                                                                                                          \n",
      "662                                                  0                                                                                                                                                                                                                                          \n",
      "663                                                  0                                                                                                                                                                                                                                          \n",
      "664                                                  0                                                                                                                                                                                                                                          \n",
      "665                                                  0                                                                                                                                                                                                                                          \n",
      "666                                                  0                                                                                                                                                                                                                                          \n",
      "\n",
      "     Accelerated Healing,Cold Resistance,Durability,Stealth,Weapons Master,Longevity,Super Strength,Stamina,Enhanced Memory,Invulnerability,Technopath/Cyberpath,Enhanced Hearing,Heat Resistance,Vision - Telescopic,Vision - Night,Vision - Infrared,Vision - Thermal  \\\n",
      "0                                                    0                                                                                                                                                                                                                    \n",
      "1                                                    0                                                                                                                                                                                                                    \n",
      "2                                                    0                                                                                                                                                                                                                    \n",
      "3                                                    0                                                                                                                                                                                                                    \n",
      "4                                                    0                                                                                                                                                                                                                    \n",
      "..                                                 ...                                                                                                                                                                                                                    \n",
      "662                                                  0                                                                                                                                                                                                                    \n",
      "663                                                  0                                                                                                                                                                                                                    \n",
      "664                                                  0                                                                                                                                                                                                                    \n",
      "665                                                  0                                                                                                                                                                                                                    \n",
      "666                                                  0                                                                                                                                                                                                                    \n",
      "\n",
      "     Accelerated Healing,Dimensional Awareness,Durability,Energy Absorption,Flight,Marksmanship,Longevity,Intelligence,Super Strength,Telepathy,Energy Blasts,Size Changing,Stamina,Super Speed,Teleportation,Telekinesis,Energy Beams,Dimensional Travel,Immortality,Invulnerability,Force Fields,Psionic Powers,Molecular Manipulation,Regeneration,Levitation,Energy Manipulation,Power Cosmic,Toxin and Disease Resistance,Portal Creation,Grim Reaping,Resurrection,Vitakinesis  \\\n",
      "0                                                    0                                                                                                                                                                                                                                                                                                                                                                                                                                 \n",
      "1                                                    0                                                                                                                                                                                                                                                                                                                                                                                                                                 \n",
      "2                                                    0                                                                                                                                                                                                                                                                                                                                                                                                                                 \n",
      "3                                                    0                                                                                                                                                                                                                                                                                                                                                                                                                                 \n",
      "4                                                    0                                                                                                                                                                                                                                                                                                                                                                                                                                 \n",
      "..                                                 ...                                                                                                                                                                                                                                                                                                                                                                                                                                 \n",
      "662                                                  0                                                                                                                                                                                                                                                                                                                                                                                                                                 \n",
      "663                                                  0                                                                                                                                                                                                                                                                                                                                                                                                                                 \n",
      "664                                                  0                                                                                                                                                                                                                                                                                                                                                                                                                                 \n",
      "665                                                  0                                                                                                                                                                                                                                                                                                                                                                                                                                 \n",
      "666                                                  0                                                                                                                                                                                                                                                                                                                                                                                                                                 \n",
      "\n",
      "     Accelerated Healing,Dimensional Awareness,Durability,Energy Absorption,Flight,Power Augmentation,Intelligence,Super Strength,Telepathy,Energy Blasts,Size Changing,Darkforce Manipulation,Teleportation,Energy Beams,Immortality,Invulnerability,Energy Constructs,Molecular Manipulation,Power Suit,Time Travel,Time Manipulation,Matter Absorption,Reality Warping  \\\n",
      "0                                                    0                                                                                                                                                                                                                                                                                                                      \n",
      "1                                                    0                                                                                                                                                                                                                                                                                                                      \n",
      "2                                                    0                                                                                                                                                                                                                                                                                                                      \n",
      "3                                                    0                                                                                                                                                                                                                                                                                                                      \n",
      "4                                                    0                                                                                                                                                                                                                                                                                                                      \n",
      "..                                                 ...                                                                                                                                                                                                                                                                                                                      \n",
      "662                                                  0                                                                                                                                                                                                                                                                                                                      \n",
      "663                                                  0                                                                                                                                                                                                                                                                                                                      \n",
      "664                                                  0                                                                                                                                                                                                                                                                                                                      \n",
      "665                                                  0                                                                                                                                                                                                                                                                                                                      \n",
      "666                                                  0                                                                                                                                                                                                                                                                                                                      \n",
      "\n",
      "     ...  Weapon-based Powers,Jump  Weapon-based Powers,Peak Human Condition  \\\n",
      "0    ...                         0                                         0   \n",
      "1    ...                         0                                         0   \n",
      "2    ...                         0                                         0   \n",
      "3    ...                         0                                         0   \n",
      "4    ...                         0                                         0   \n",
      "..   ...                       ...                                       ...   \n",
      "662  ...                         0                                         0   \n",
      "663  ...                         0                                         0   \n",
      "664  ...                         0                                         0   \n",
      "665  ...                         0                                         0   \n",
      "666  ...                         0                                         0   \n",
      "\n",
      "     Weapon-based Powers,Substance Secretion  Weapons Master  \\\n",
      "0                                          0               0   \n",
      "1                                          0               0   \n",
      "2                                          0               0   \n",
      "3                                          0               0   \n",
      "4                                          0               0   \n",
      "..                                       ...             ...   \n",
      "662                                        0               0   \n",
      "663                                        0               0   \n",
      "664                                        0               0   \n",
      "665                                        0               0   \n",
      "666                                        0               0   \n",
      "\n",
      "     Weapons Master,Intelligence  \\\n",
      "0                              0   \n",
      "1                              0   \n",
      "2                              0   \n",
      "3                              0   \n",
      "4                              0   \n",
      "..                           ...   \n",
      "662                            0   \n",
      "663                            0   \n",
      "664                            0   \n",
      "665                            0   \n",
      "666                            0   \n",
      "\n",
      "     Weapons Master,Intelligence,Cryokinesis,Energy Blasts,Weapon-based Powers,Electrokinesis,Energy Beams,Self-Sustenance,Mind Control,Molecular Manipulation,Levitation  \\\n",
      "0                                                    0                                                                                                                      \n",
      "1                                                    0                                                                                                                      \n",
      "2                                                    0                                                                                                                      \n",
      "3                                                    0                                                                                                                      \n",
      "4                                                    0                                                                                                                      \n",
      "..                                                 ...                                                                                                                      \n",
      "662                                                  0                                                                                                                      \n",
      "663                                                  0                                                                                                                      \n",
      "664                                                  0                                                                                                                      \n",
      "665                                                  0                                                                                                                      \n",
      "666                                                  0                                                                                                                      \n",
      "\n",
      "     Weapons Master,Intelligence,Stamina,Weapon-based Powers,Magic,Jump,Peak Human Condition,Animation,Hypnokinesis,Power Suit,Illusions,Sonar,Web Creation  \\\n",
      "0                                                    0                                                                                                        \n",
      "1                                                    0                                                                                                        \n",
      "2                                                    0                                                                                                        \n",
      "3                                                    0                                                                                                        \n",
      "4                                                    0                                                                                                        \n",
      "..                                                 ...                                                                                                        \n",
      "662                                                  0                                                                                                        \n",
      "663                                                  0                                                                                                        \n",
      "664                                                  0                                                                                                        \n",
      "665                                                  0                                                                                                        \n",
      "666                                                  0                                                                                                        \n",
      "\n",
      "     Weapons Master,Longevity  \\\n",
      "0                           0   \n",
      "1                           0   \n",
      "2                           0   \n",
      "3                           0   \n",
      "4                           0   \n",
      "..                        ...   \n",
      "662                         0   \n",
      "663                         0   \n",
      "664                         0   \n",
      "665                         0   \n",
      "666                         0   \n",
      "\n",
      "     Weapons Master,Stamina,Enhanced Memory,Photographic Reflexes  \\\n",
      "0                                                    0              \n",
      "1                                                    0              \n",
      "2                                                    0              \n",
      "3                                                    0              \n",
      "4                                                    0              \n",
      "..                                                 ...              \n",
      "662                                                  0              \n",
      "663                                                  0              \n",
      "664                                                  0              \n",
      "665                                                  0              \n",
      "666                                                  0              \n",
      "\n",
      "     Weapons Master,Super Strength,Stamina,Super Speed,Weapon-based Powers  \n",
      "0                                                    0                      \n",
      "1                                                    0                      \n",
      "2                                                    0                      \n",
      "3                                                    0                      \n",
      "4                                                    0                      \n",
      "..                                                 ...                      \n",
      "662                                                  0                      \n",
      "663                                                  0                      \n",
      "664                                                  0                      \n",
      "665                                                  0                      \n",
      "666                                                  0                      \n",
      "\n",
      "[667 rows x 611 columns]\n"
     ]
    },
    {
     "name": "stderr",
     "output_type": "stream",
     "text": [
      "C:\\Users\\paull\\AppData\\Local\\Temp\\ipykernel_8720\\2167902650.py:5: FutureWarning: Using the level keyword in DataFrame and Series aggregations is deprecated and will be removed in a future version. Use groupby instead. df.sum(level=1) should use df.groupby(level=1).sum().\n",
      "  one_hot_encoded = sh_powers['Powers'].apply(lambda x: pd.Series(x)).stack().str.get_dummies().sum(level=0)\n"
     ]
    }
   ],
   "source": [
    "# Assuming your DataFrame is named 'sh_powers' and the column is named 'Powers'\n",
    "sh_powers['Powers'] = sh_powers['Powers'].astype(str)\n",
    "\n",
    "# Apply one-hot encoding using pandas get_dummies() and apply(pd.Series)\n",
    "one_hot_encoded = sh_powers['Powers'].apply(lambda x: pd.Series(x)).stack().str.get_dummies().sum(level=0)\n",
    "\n",
    "# Concatenate the original DataFrame with the encoded DataFrame\n",
    "result_df = pd.concat([sh_powers, one_hot_encoded], axis=1)\n",
    "\n"
   ]
  },
  {
   "cell_type": "code",
   "execution_count": 78,
   "id": "0edd2a18-b8cc-4a35-88b8-3cf7056510a6",
   "metadata": {},
   "outputs": [
    {
     "data": {
      "text/plain": [
       "0             Agility,Super Strength,Stamina,Super Speed\n",
       "1      Accelerated Healing,Durability,Longevity,Super...\n",
       "2      Agility,Accelerated Healing,Cold Resistance,Du...\n",
       "3                                     Lantern Power Ring\n",
       "4      Accelerated Healing,Intelligence,Super Strengt...\n",
       "                             ...                        \n",
       "662                   Flight,Energy Blasts,Size Changing\n",
       "663    Cold Resistance,Durability,Longevity,Super Str...\n",
       "664    Agility,Stealth,Danger Sense,Marksmanship,Weap...\n",
       "665    Cryokinesis,Telepathy,Magic,Fire Control,Proba...\n",
       "666    Super Speed,Intangibility,Time Travel,Time Man...\n",
       "Name: Powers, Length: 667, dtype: object"
      ]
     },
     "execution_count": 78,
     "metadata": {},
     "output_type": "execute_result"
    }
   ],
   "source": [
    "sh_powers['Powers']"
   ]
  }
 ],
 "metadata": {
  "kernelspec": {
   "display_name": "Python (dojo-env)",
   "language": "python",
   "name": "dojo-env"
  },
  "language_info": {
   "codemirror_mode": {
    "name": "ipython",
    "version": 3
   },
   "file_extension": ".py",
   "mimetype": "text/x-python",
   "name": "python",
   "nbconvert_exporter": "python",
   "pygments_lexer": "ipython3",
   "version": "3.9.15"
  },
  "toc": {
   "base_numbering": 1,
   "nav_menu": {},
   "number_sections": false,
   "sideBar": true,
   "skip_h1_title": false,
   "title_cell": "Table of Contents",
   "title_sidebar": "Contents",
   "toc_cell": false,
   "toc_position": {},
   "toc_section_display": true,
   "toc_window_display": false
  }
 },
 "nbformat": 4,
 "nbformat_minor": 5
}
