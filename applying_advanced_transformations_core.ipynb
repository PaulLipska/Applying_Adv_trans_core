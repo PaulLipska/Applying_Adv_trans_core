{
 "cells": [
  {
   "cell_type": "markdown",
   "id": "3abd9898-1beb-48fa-bf76-91554e7fdbd5",
   "metadata": {},
   "source": [
    "# Applying Advanced Transformations (Core)"
   ]
  },
  {
   "cell_type": "markdown",
   "id": "1878f577-f30d-432f-a80d-d79f197ddc0c",
   "metadata": {},
   "source": [
    "#### Import Library"
   ]
  },
  {
   "cell_type": "code",
   "execution_count": 1,
   "id": "1702eae6-f6e0-4d8c-b239-30ba8c8e3902",
   "metadata": {},
   "outputs": [],
   "source": [
    "## standard imports\n",
    "import numpy as np\n",
    "import pandas as pd\n",
    "import matplotlib.pyplot as plt\n",
    "import seaborn as sns\n",
    "## Importing the OS and JSON Modules\n",
    "import os,json"
   ]
  },
  {
   "cell_type": "markdown",
   "id": "8630a255-d4c8-4260-bd5d-7ee7c7d502e8",
   "metadata": {},
   "source": [
    "#### Loading dataframes"
   ]
  },
  {
   "cell_type": "code",
   "execution_count": 2,
   "id": "e985ea59-e655-4e76-9d3e-c364d71857e3",
   "metadata": {},
   "outputs": [],
   "source": [
    "sh_info = pd.read_csv(\"data/superhero_infosuperhero_info.csv\")"
   ]
  },
  {
   "cell_type": "code",
   "execution_count": 3,
   "id": "e0e7e27c-b6eb-45cf-8043-fa254d7c44dd",
   "metadata": {},
   "outputs": [],
   "source": [
    "sh_powers = pd.read_csv(\"data/superhero_powers - superhero_powers.csv\")"
   ]
  },
  {
   "cell_type": "markdown",
   "id": "34671b86-d386-4033-ad10-c4d179e04993",
   "metadata": {},
   "source": [
    "#### Reviewing Super Hero Info df"
   ]
  },
  {
   "cell_type": "code",
   "execution_count": 5,
   "id": "1ceb9b4d-130d-4698-ac9c-7c01c277677d",
   "metadata": {},
   "outputs": [
    {
     "data": {
      "text/html": [
       "<div>\n",
       "<style scoped>\n",
       "    .dataframe tbody tr th:only-of-type {\n",
       "        vertical-align: middle;\n",
       "    }\n",
       "\n",
       "    .dataframe tbody tr th {\n",
       "        vertical-align: top;\n",
       "    }\n",
       "\n",
       "    .dataframe thead th {\n",
       "        text-align: right;\n",
       "    }\n",
       "</style>\n",
       "<table border=\"1\" class=\"dataframe\">\n",
       "  <thead>\n",
       "    <tr style=\"text-align: right;\">\n",
       "      <th></th>\n",
       "      <th>Hero|Publisher</th>\n",
       "      <th>Gender</th>\n",
       "      <th>Race</th>\n",
       "      <th>Alignment</th>\n",
       "      <th>Hair color</th>\n",
       "      <th>Eye color</th>\n",
       "      <th>Skin color</th>\n",
       "      <th>Measurements</th>\n",
       "    </tr>\n",
       "  </thead>\n",
       "  <tbody>\n",
       "    <tr>\n",
       "      <th>0</th>\n",
       "      <td>A-Bomb|Marvel Comics</td>\n",
       "      <td>Male</td>\n",
       "      <td>Human</td>\n",
       "      <td>good</td>\n",
       "      <td>No Hair</td>\n",
       "      <td>yellow</td>\n",
       "      <td>Unknown</td>\n",
       "      <td>{'Height': '203.0 cm', 'Weight': '441.0 kg'}</td>\n",
       "    </tr>\n",
       "    <tr>\n",
       "      <th>1</th>\n",
       "      <td>Abe Sapien|Dark Horse Comics</td>\n",
       "      <td>Male</td>\n",
       "      <td>Icthyo Sapien</td>\n",
       "      <td>good</td>\n",
       "      <td>No Hair</td>\n",
       "      <td>blue</td>\n",
       "      <td>blue</td>\n",
       "      <td>{'Height': '191.0 cm', 'Weight': '65.0 kg'}</td>\n",
       "    </tr>\n",
       "    <tr>\n",
       "      <th>2</th>\n",
       "      <td>Abin Sur|DC Comics</td>\n",
       "      <td>Male</td>\n",
       "      <td>Ungaran</td>\n",
       "      <td>good</td>\n",
       "      <td>No Hair</td>\n",
       "      <td>blue</td>\n",
       "      <td>red</td>\n",
       "      <td>{'Height': '185.0 cm', 'Weight': '90.0 kg'}</td>\n",
       "    </tr>\n",
       "    <tr>\n",
       "      <th>3</th>\n",
       "      <td>Abomination|Marvel Comics</td>\n",
       "      <td>Male</td>\n",
       "      <td>Human / Radiation</td>\n",
       "      <td>bad</td>\n",
       "      <td>No Hair</td>\n",
       "      <td>green</td>\n",
       "      <td>Unknown</td>\n",
       "      <td>{'Height': '203.0 cm', 'Weight': '441.0 kg'}</td>\n",
       "    </tr>\n",
       "    <tr>\n",
       "      <th>4</th>\n",
       "      <td>Absorbing Man|Marvel Comics</td>\n",
       "      <td>Male</td>\n",
       "      <td>Human</td>\n",
       "      <td>bad</td>\n",
       "      <td>No Hair</td>\n",
       "      <td>blue</td>\n",
       "      <td>Unknown</td>\n",
       "      <td>{'Height': '193.0 cm', 'Weight': '122.0 kg'}</td>\n",
       "    </tr>\n",
       "  </tbody>\n",
       "</table>\n",
       "</div>"
      ],
      "text/plain": [
       "                 Hero|Publisher Gender               Race Alignment  \\\n",
       "0          A-Bomb|Marvel Comics   Male              Human      good   \n",
       "1  Abe Sapien|Dark Horse Comics   Male      Icthyo Sapien      good   \n",
       "2            Abin Sur|DC Comics   Male            Ungaran      good   \n",
       "3     Abomination|Marvel Comics   Male  Human / Radiation       bad   \n",
       "4   Absorbing Man|Marvel Comics   Male              Human       bad   \n",
       "\n",
       "  Hair color Eye color Skin color  \\\n",
       "0    No Hair    yellow    Unknown   \n",
       "1    No Hair      blue       blue   \n",
       "2    No Hair      blue        red   \n",
       "3    No Hair     green    Unknown   \n",
       "4    No Hair      blue    Unknown   \n",
       "\n",
       "                                   Measurements  \n",
       "0  {'Height': '203.0 cm', 'Weight': '441.0 kg'}  \n",
       "1   {'Height': '191.0 cm', 'Weight': '65.0 kg'}  \n",
       "2   {'Height': '185.0 cm', 'Weight': '90.0 kg'}  \n",
       "3  {'Height': '203.0 cm', 'Weight': '441.0 kg'}  \n",
       "4  {'Height': '193.0 cm', 'Weight': '122.0 kg'}  "
      ]
     },
     "execution_count": 5,
     "metadata": {},
     "output_type": "execute_result"
    }
   ],
   "source": [
    "sh_info.head()"
   ]
  },
  {
   "cell_type": "markdown",
   "id": "3d3fbe86-5a41-4d33-80a0-a3fd0403ad31",
   "metadata": {},
   "source": [
    "#### Focusing on Hero|Publisher Column"
   ]
  },
  {
   "cell_type": "code",
   "execution_count": 6,
   "id": "7aa6f418-bb0d-4be9-8969-9dd656be1b36",
   "metadata": {},
   "outputs": [
    {
     "data": {
      "text/plain": [
       "0               A-Bomb|Marvel Comics\n",
       "1       Abe Sapien|Dark Horse Comics\n",
       "2                 Abin Sur|DC Comics\n",
       "3          Abomination|Marvel Comics\n",
       "4        Absorbing Man|Marvel Comics\n",
       "                   ...              \n",
       "458       Yellowjacket|Marvel Comics\n",
       "459    Yellowjacket II|Marvel Comics\n",
       "460                Yoda|George Lucas\n",
       "461                Zatanna|DC Comics\n",
       "462                   Zoom|DC Comics\n",
       "Name: Hero|Publisher, Length: 463, dtype: object"
      ]
     },
     "execution_count": 6,
     "metadata": {},
     "output_type": "execute_result"
    }
   ],
   "source": [
    "sh_info['Hero|Publisher']"
   ]
  },
  {
   "cell_type": "code",
   "execution_count": 7,
   "id": "6779a17c-78f1-43d9-aad8-286beb40d4cd",
   "metadata": {},
   "outputs": [
    {
     "data": {
      "text/html": [
       "<div>\n",
       "<style scoped>\n",
       "    .dataframe tbody tr th:only-of-type {\n",
       "        vertical-align: middle;\n",
       "    }\n",
       "\n",
       "    .dataframe tbody tr th {\n",
       "        vertical-align: top;\n",
       "    }\n",
       "\n",
       "    .dataframe thead th {\n",
       "        text-align: right;\n",
       "    }\n",
       "</style>\n",
       "<table border=\"1\" class=\"dataframe\">\n",
       "  <thead>\n",
       "    <tr style=\"text-align: right;\">\n",
       "      <th></th>\n",
       "      <th>0</th>\n",
       "      <th>1</th>\n",
       "    </tr>\n",
       "  </thead>\n",
       "  <tbody>\n",
       "    <tr>\n",
       "      <th>0</th>\n",
       "      <td>A-Bomb</td>\n",
       "      <td>Marvel Comics</td>\n",
       "    </tr>\n",
       "    <tr>\n",
       "      <th>1</th>\n",
       "      <td>Abe Sapien</td>\n",
       "      <td>Dark Horse Comics</td>\n",
       "    </tr>\n",
       "    <tr>\n",
       "      <th>2</th>\n",
       "      <td>Abin Sur</td>\n",
       "      <td>DC Comics</td>\n",
       "    </tr>\n",
       "    <tr>\n",
       "      <th>3</th>\n",
       "      <td>Abomination</td>\n",
       "      <td>Marvel Comics</td>\n",
       "    </tr>\n",
       "    <tr>\n",
       "      <th>4</th>\n",
       "      <td>Absorbing Man</td>\n",
       "      <td>Marvel Comics</td>\n",
       "    </tr>\n",
       "    <tr>\n",
       "      <th>...</th>\n",
       "      <td>...</td>\n",
       "      <td>...</td>\n",
       "    </tr>\n",
       "    <tr>\n",
       "      <th>458</th>\n",
       "      <td>Yellowjacket</td>\n",
       "      <td>Marvel Comics</td>\n",
       "    </tr>\n",
       "    <tr>\n",
       "      <th>459</th>\n",
       "      <td>Yellowjacket II</td>\n",
       "      <td>Marvel Comics</td>\n",
       "    </tr>\n",
       "    <tr>\n",
       "      <th>460</th>\n",
       "      <td>Yoda</td>\n",
       "      <td>George Lucas</td>\n",
       "    </tr>\n",
       "    <tr>\n",
       "      <th>461</th>\n",
       "      <td>Zatanna</td>\n",
       "      <td>DC Comics</td>\n",
       "    </tr>\n",
       "    <tr>\n",
       "      <th>462</th>\n",
       "      <td>Zoom</td>\n",
       "      <td>DC Comics</td>\n",
       "    </tr>\n",
       "  </tbody>\n",
       "</table>\n",
       "<p>463 rows × 2 columns</p>\n",
       "</div>"
      ],
      "text/plain": [
       "                   0                  1\n",
       "0             A-Bomb      Marvel Comics\n",
       "1         Abe Sapien  Dark Horse Comics\n",
       "2           Abin Sur          DC Comics\n",
       "3        Abomination      Marvel Comics\n",
       "4      Absorbing Man      Marvel Comics\n",
       "..               ...                ...\n",
       "458     Yellowjacket      Marvel Comics\n",
       "459  Yellowjacket II      Marvel Comics\n",
       "460             Yoda       George Lucas\n",
       "461          Zatanna          DC Comics\n",
       "462             Zoom          DC Comics\n",
       "\n",
       "[463 rows x 2 columns]"
      ]
     },
     "execution_count": 7,
     "metadata": {},
     "output_type": "execute_result"
    }
   ],
   "source": [
    "sh_info['Hero|Publisher'].str.split('|',expand=True)"
   ]
  },
  {
   "cell_type": "markdown",
   "id": "17e2ce0e-432a-4396-8d99-f89bd8918f6e",
   "metadata": {},
   "source": [
    "#### Transforming Column"
   ]
  },
  {
   "cell_type": "code",
   "execution_count": 8,
   "id": "4890fa04-9405-442d-843f-4a682ce48a77",
   "metadata": {},
   "outputs": [
    {
     "data": {
      "text/html": [
       "<div>\n",
       "<style scoped>\n",
       "    .dataframe tbody tr th:only-of-type {\n",
       "        vertical-align: middle;\n",
       "    }\n",
       "\n",
       "    .dataframe tbody tr th {\n",
       "        vertical-align: top;\n",
       "    }\n",
       "\n",
       "    .dataframe thead th {\n",
       "        text-align: right;\n",
       "    }\n",
       "</style>\n",
       "<table border=\"1\" class=\"dataframe\">\n",
       "  <thead>\n",
       "    <tr style=\"text-align: right;\">\n",
       "      <th></th>\n",
       "      <th>Hero|Publisher</th>\n",
       "      <th>Gender</th>\n",
       "      <th>Race</th>\n",
       "      <th>Alignment</th>\n",
       "      <th>Hair color</th>\n",
       "      <th>Eye color</th>\n",
       "      <th>Skin color</th>\n",
       "      <th>Measurements</th>\n",
       "      <th>Hero</th>\n",
       "      <th>Publisher</th>\n",
       "    </tr>\n",
       "  </thead>\n",
       "  <tbody>\n",
       "    <tr>\n",
       "      <th>0</th>\n",
       "      <td>A-Bomb|Marvel Comics</td>\n",
       "      <td>Male</td>\n",
       "      <td>Human</td>\n",
       "      <td>good</td>\n",
       "      <td>No Hair</td>\n",
       "      <td>yellow</td>\n",
       "      <td>Unknown</td>\n",
       "      <td>{'Height': '203.0 cm', 'Weight': '441.0 kg'}</td>\n",
       "      <td>A-Bomb</td>\n",
       "      <td>Marvel Comics</td>\n",
       "    </tr>\n",
       "    <tr>\n",
       "      <th>1</th>\n",
       "      <td>Abe Sapien|Dark Horse Comics</td>\n",
       "      <td>Male</td>\n",
       "      <td>Icthyo Sapien</td>\n",
       "      <td>good</td>\n",
       "      <td>No Hair</td>\n",
       "      <td>blue</td>\n",
       "      <td>blue</td>\n",
       "      <td>{'Height': '191.0 cm', 'Weight': '65.0 kg'}</td>\n",
       "      <td>Abe Sapien</td>\n",
       "      <td>Dark Horse Comics</td>\n",
       "    </tr>\n",
       "  </tbody>\n",
       "</table>\n",
       "</div>"
      ],
      "text/plain": [
       "                 Hero|Publisher Gender           Race Alignment Hair color  \\\n",
       "0          A-Bomb|Marvel Comics   Male          Human      good    No Hair   \n",
       "1  Abe Sapien|Dark Horse Comics   Male  Icthyo Sapien      good    No Hair   \n",
       "\n",
       "  Eye color Skin color                                  Measurements  \\\n",
       "0    yellow    Unknown  {'Height': '203.0 cm', 'Weight': '441.0 kg'}   \n",
       "1      blue       blue   {'Height': '191.0 cm', 'Weight': '65.0 kg'}   \n",
       "\n",
       "         Hero          Publisher  \n",
       "0      A-Bomb      Marvel Comics  \n",
       "1  Abe Sapien  Dark Horse Comics  "
      ]
     },
     "execution_count": 8,
     "metadata": {},
     "output_type": "execute_result"
    }
   ],
   "source": [
    "sh_info[['Hero','Publisher']] = sh_info['Hero|Publisher'].str.split('|',expand=True)\n",
    "sh_info.head(2)"
   ]
  },
  {
   "cell_type": "markdown",
   "id": "8ea03450-c516-4b99-86f5-ca2d2a890eb0",
   "metadata": {},
   "source": [
    "#### Dropping Column"
   ]
  },
  {
   "cell_type": "code",
   "execution_count": 9,
   "id": "ea83f87f-4c8f-4bca-a926-beee63a77439",
   "metadata": {},
   "outputs": [],
   "source": [
    "## drop the original column\n",
    "sh_info = sh_info.drop(columns=['Hero|Publisher'])"
   ]
  },
  {
   "cell_type": "code",
   "execution_count": 10,
   "id": "7eace272-0c78-4be8-bc79-23450d7a4a4c",
   "metadata": {
    "tags": []
   },
   "outputs": [
    {
     "data": {
      "text/html": [
       "<div>\n",
       "<style scoped>\n",
       "    .dataframe tbody tr th:only-of-type {\n",
       "        vertical-align: middle;\n",
       "    }\n",
       "\n",
       "    .dataframe tbody tr th {\n",
       "        vertical-align: top;\n",
       "    }\n",
       "\n",
       "    .dataframe thead th {\n",
       "        text-align: right;\n",
       "    }\n",
       "</style>\n",
       "<table border=\"1\" class=\"dataframe\">\n",
       "  <thead>\n",
       "    <tr style=\"text-align: right;\">\n",
       "      <th></th>\n",
       "      <th>Gender</th>\n",
       "      <th>Race</th>\n",
       "      <th>Alignment</th>\n",
       "      <th>Hair color</th>\n",
       "      <th>Eye color</th>\n",
       "      <th>Skin color</th>\n",
       "      <th>Measurements</th>\n",
       "      <th>Hero</th>\n",
       "      <th>Publisher</th>\n",
       "    </tr>\n",
       "  </thead>\n",
       "  <tbody>\n",
       "    <tr>\n",
       "      <th>0</th>\n",
       "      <td>Male</td>\n",
       "      <td>Human</td>\n",
       "      <td>good</td>\n",
       "      <td>No Hair</td>\n",
       "      <td>yellow</td>\n",
       "      <td>Unknown</td>\n",
       "      <td>{'Height': '203.0 cm', 'Weight': '441.0 kg'}</td>\n",
       "      <td>A-Bomb</td>\n",
       "      <td>Marvel Comics</td>\n",
       "    </tr>\n",
       "    <tr>\n",
       "      <th>1</th>\n",
       "      <td>Male</td>\n",
       "      <td>Icthyo Sapien</td>\n",
       "      <td>good</td>\n",
       "      <td>No Hair</td>\n",
       "      <td>blue</td>\n",
       "      <td>blue</td>\n",
       "      <td>{'Height': '191.0 cm', 'Weight': '65.0 kg'}</td>\n",
       "      <td>Abe Sapien</td>\n",
       "      <td>Dark Horse Comics</td>\n",
       "    </tr>\n",
       "    <tr>\n",
       "      <th>2</th>\n",
       "      <td>Male</td>\n",
       "      <td>Ungaran</td>\n",
       "      <td>good</td>\n",
       "      <td>No Hair</td>\n",
       "      <td>blue</td>\n",
       "      <td>red</td>\n",
       "      <td>{'Height': '185.0 cm', 'Weight': '90.0 kg'}</td>\n",
       "      <td>Abin Sur</td>\n",
       "      <td>DC Comics</td>\n",
       "    </tr>\n",
       "    <tr>\n",
       "      <th>3</th>\n",
       "      <td>Male</td>\n",
       "      <td>Human / Radiation</td>\n",
       "      <td>bad</td>\n",
       "      <td>No Hair</td>\n",
       "      <td>green</td>\n",
       "      <td>Unknown</td>\n",
       "      <td>{'Height': '203.0 cm', 'Weight': '441.0 kg'}</td>\n",
       "      <td>Abomination</td>\n",
       "      <td>Marvel Comics</td>\n",
       "    </tr>\n",
       "    <tr>\n",
       "      <th>4</th>\n",
       "      <td>Male</td>\n",
       "      <td>Human</td>\n",
       "      <td>bad</td>\n",
       "      <td>No Hair</td>\n",
       "      <td>blue</td>\n",
       "      <td>Unknown</td>\n",
       "      <td>{'Height': '193.0 cm', 'Weight': '122.0 kg'}</td>\n",
       "      <td>Absorbing Man</td>\n",
       "      <td>Marvel Comics</td>\n",
       "    </tr>\n",
       "  </tbody>\n",
       "</table>\n",
       "</div>"
      ],
      "text/plain": [
       "  Gender               Race Alignment Hair color Eye color Skin color  \\\n",
       "0   Male              Human      good    No Hair    yellow    Unknown   \n",
       "1   Male      Icthyo Sapien      good    No Hair      blue       blue   \n",
       "2   Male            Ungaran      good    No Hair      blue        red   \n",
       "3   Male  Human / Radiation       bad    No Hair     green    Unknown   \n",
       "4   Male              Human       bad    No Hair      blue    Unknown   \n",
       "\n",
       "                                   Measurements           Hero  \\\n",
       "0  {'Height': '203.0 cm', 'Weight': '441.0 kg'}         A-Bomb   \n",
       "1   {'Height': '191.0 cm', 'Weight': '65.0 kg'}     Abe Sapien   \n",
       "2   {'Height': '185.0 cm', 'Weight': '90.0 kg'}       Abin Sur   \n",
       "3  {'Height': '203.0 cm', 'Weight': '441.0 kg'}    Abomination   \n",
       "4  {'Height': '193.0 cm', 'Weight': '122.0 kg'}  Absorbing Man   \n",
       "\n",
       "           Publisher  \n",
       "0      Marvel Comics  \n",
       "1  Dark Horse Comics  \n",
       "2          DC Comics  \n",
       "3      Marvel Comics  \n",
       "4      Marvel Comics  "
      ]
     },
     "execution_count": 10,
     "metadata": {},
     "output_type": "execute_result"
    }
   ],
   "source": [
    "sh_info.head()"
   ]
  },
  {
   "cell_type": "markdown",
   "id": "fc18be47-b3fd-4168-879f-cdeb280294f1",
   "metadata": {},
   "source": [
    "#### Focusing on Measurements Column"
   ]
  },
  {
   "cell_type": "code",
   "execution_count": 11,
   "id": "ec3f9a9a-5b99-47d8-afdb-c96ba26964c9",
   "metadata": {},
   "outputs": [
    {
     "name": "stdout",
     "output_type": "stream",
     "text": [
      "<class 'str'>\n"
     ]
    },
    {
     "data": {
      "text/plain": [
       "\"{'Height': '203.0 cm', 'Weight': '441.0 kg'}\""
      ]
     },
     "execution_count": 11,
     "metadata": {},
     "output_type": "execute_result"
    }
   ],
   "source": [
    "## examining a single value from the coordinates col\n",
    "htwt = sh_info.loc[0,\"Measurements\"]\n",
    "print(type(htwt))\n",
    "htwt\n"
   ]
  },
  {
   "cell_type": "markdown",
   "id": "b63eb0bc-f660-4ea6-a935-ecf705be2fd5",
   "metadata": {},
   "source": [
    "#### Formatting Column"
   ]
  },
  {
   "cell_type": "code",
   "execution_count": 12,
   "id": "72d1572b-116a-4b7c-8178-0231513da4f7",
   "metadata": {},
   "outputs": [
    {
     "data": {
      "text/plain": [
       "0    {'Height': '203.0 cm', 'Weight': '441.0 kg'}\n",
       "1     {'Height': '191.0 cm', 'Weight': '65.0 kg'}\n",
       "2     {'Height': '185.0 cm', 'Weight': '90.0 kg'}\n",
       "3    {'Height': '203.0 cm', 'Weight': '441.0 kg'}\n",
       "4    {'Height': '193.0 cm', 'Weight': '122.0 kg'}\n",
       "Name: Measurements, dtype: object"
      ]
     },
     "execution_count": 12,
     "metadata": {},
     "output_type": "execute_result"
    }
   ],
   "source": [
    "## use .str.replace to replace all single quotes\n",
    "sh_info['Measurements'] = sh_info['Measurements'].str.replace(\"'\",'\"')\n",
    "## Apply the json.loads to the full column\n",
    "sh_info['Measurements'] = sh_info['Measurements'].apply(json.loads)\n",
    "sh_info['Measurements'].head()\n",
    "\n"
   ]
  },
  {
   "cell_type": "markdown",
   "id": "71145f00-866b-4757-965b-a59c6975a002",
   "metadata": {},
   "source": [
    "#### Unpacking Dictionaries"
   ]
  },
  {
   "cell_type": "code",
   "execution_count": 13,
   "id": "dfb67777-a9c0-4b23-a602-0630d8cfc935",
   "metadata": {},
   "outputs": [
    {
     "data": {
      "text/html": [
       "<div>\n",
       "<style scoped>\n",
       "    .dataframe tbody tr th:only-of-type {\n",
       "        vertical-align: middle;\n",
       "    }\n",
       "\n",
       "    .dataframe tbody tr th {\n",
       "        vertical-align: top;\n",
       "    }\n",
       "\n",
       "    .dataframe thead th {\n",
       "        text-align: right;\n",
       "    }\n",
       "</style>\n",
       "<table border=\"1\" class=\"dataframe\">\n",
       "  <thead>\n",
       "    <tr style=\"text-align: right;\">\n",
       "      <th></th>\n",
       "      <th>Height</th>\n",
       "      <th>Weight</th>\n",
       "    </tr>\n",
       "  </thead>\n",
       "  <tbody>\n",
       "    <tr>\n",
       "      <th>0</th>\n",
       "      <td>203.0 cm</td>\n",
       "      <td>441.0 kg</td>\n",
       "    </tr>\n",
       "    <tr>\n",
       "      <th>1</th>\n",
       "      <td>191.0 cm</td>\n",
       "      <td>65.0 kg</td>\n",
       "    </tr>\n",
       "    <tr>\n",
       "      <th>2</th>\n",
       "      <td>185.0 cm</td>\n",
       "      <td>90.0 kg</td>\n",
       "    </tr>\n",
       "    <tr>\n",
       "      <th>3</th>\n",
       "      <td>203.0 cm</td>\n",
       "      <td>441.0 kg</td>\n",
       "    </tr>\n",
       "    <tr>\n",
       "      <th>4</th>\n",
       "      <td>193.0 cm</td>\n",
       "      <td>122.0 kg</td>\n",
       "    </tr>\n",
       "    <tr>\n",
       "      <th>...</th>\n",
       "      <td>...</td>\n",
       "      <td>...</td>\n",
       "    </tr>\n",
       "    <tr>\n",
       "      <th>458</th>\n",
       "      <td>183.0 cm</td>\n",
       "      <td>83.0 kg</td>\n",
       "    </tr>\n",
       "    <tr>\n",
       "      <th>459</th>\n",
       "      <td>165.0 cm</td>\n",
       "      <td>52.0 kg</td>\n",
       "    </tr>\n",
       "    <tr>\n",
       "      <th>460</th>\n",
       "      <td>66.0 cm</td>\n",
       "      <td>17.0 kg</td>\n",
       "    </tr>\n",
       "    <tr>\n",
       "      <th>461</th>\n",
       "      <td>170.0 cm</td>\n",
       "      <td>57.0 kg</td>\n",
       "    </tr>\n",
       "    <tr>\n",
       "      <th>462</th>\n",
       "      <td>185.0 cm</td>\n",
       "      <td>81.0 kg</td>\n",
       "    </tr>\n",
       "  </tbody>\n",
       "</table>\n",
       "<p>463 rows × 2 columns</p>\n",
       "</div>"
      ],
      "text/plain": [
       "       Height    Weight\n",
       "0    203.0 cm  441.0 kg\n",
       "1    191.0 cm   65.0 kg\n",
       "2    185.0 cm   90.0 kg\n",
       "3    203.0 cm  441.0 kg\n",
       "4    193.0 cm  122.0 kg\n",
       "..        ...       ...\n",
       "458  183.0 cm   83.0 kg\n",
       "459  165.0 cm   52.0 kg\n",
       "460   66.0 cm   17.0 kg\n",
       "461  170.0 cm   57.0 kg\n",
       "462  185.0 cm   81.0 kg\n",
       "\n",
       "[463 rows x 2 columns]"
      ]
     },
     "execution_count": 13,
     "metadata": {},
     "output_type": "execute_result"
    }
   ],
   "source": [
    "ht_wt = sh_info['Measurements'].apply(pd.Series)\n",
    "ht_wt"
   ]
  },
  {
   "cell_type": "markdown",
   "id": "e411714e-663f-4f9b-8f2b-d8e8d4b303df",
   "metadata": {},
   "source": [
    "#### Adding to DataFrame"
   ]
  },
  {
   "cell_type": "code",
   "execution_count": 14,
   "id": "d5193602-4b7b-4689-a5e8-d352eab3bec8",
   "metadata": {},
   "outputs": [
    {
     "data": {
      "text/html": [
       "<div>\n",
       "<style scoped>\n",
       "    .dataframe tbody tr th:only-of-type {\n",
       "        vertical-align: middle;\n",
       "    }\n",
       "\n",
       "    .dataframe tbody tr th {\n",
       "        vertical-align: top;\n",
       "    }\n",
       "\n",
       "    .dataframe thead th {\n",
       "        text-align: right;\n",
       "    }\n",
       "</style>\n",
       "<table border=\"1\" class=\"dataframe\">\n",
       "  <thead>\n",
       "    <tr style=\"text-align: right;\">\n",
       "      <th></th>\n",
       "      <th>Gender</th>\n",
       "      <th>Race</th>\n",
       "      <th>Alignment</th>\n",
       "      <th>Hair color</th>\n",
       "      <th>Eye color</th>\n",
       "      <th>Skin color</th>\n",
       "      <th>Measurements</th>\n",
       "      <th>Hero</th>\n",
       "      <th>Publisher</th>\n",
       "      <th>Height</th>\n",
       "      <th>Weight</th>\n",
       "    </tr>\n",
       "  </thead>\n",
       "  <tbody>\n",
       "    <tr>\n",
       "      <th>0</th>\n",
       "      <td>Male</td>\n",
       "      <td>Human</td>\n",
       "      <td>good</td>\n",
       "      <td>No Hair</td>\n",
       "      <td>yellow</td>\n",
       "      <td>Unknown</td>\n",
       "      <td>{'Height': '203.0 cm', 'Weight': '441.0 kg'}</td>\n",
       "      <td>A-Bomb</td>\n",
       "      <td>Marvel Comics</td>\n",
       "      <td>203.0 cm</td>\n",
       "      <td>441.0 kg</td>\n",
       "    </tr>\n",
       "    <tr>\n",
       "      <th>1</th>\n",
       "      <td>Male</td>\n",
       "      <td>Icthyo Sapien</td>\n",
       "      <td>good</td>\n",
       "      <td>No Hair</td>\n",
       "      <td>blue</td>\n",
       "      <td>blue</td>\n",
       "      <td>{'Height': '191.0 cm', 'Weight': '65.0 kg'}</td>\n",
       "      <td>Abe Sapien</td>\n",
       "      <td>Dark Horse Comics</td>\n",
       "      <td>191.0 cm</td>\n",
       "      <td>65.0 kg</td>\n",
       "    </tr>\n",
       "  </tbody>\n",
       "</table>\n",
       "</div>"
      ],
      "text/plain": [
       "  Gender           Race Alignment Hair color Eye color Skin color  \\\n",
       "0   Male          Human      good    No Hair    yellow    Unknown   \n",
       "1   Male  Icthyo Sapien      good    No Hair      blue       blue   \n",
       "\n",
       "                                   Measurements        Hero  \\\n",
       "0  {'Height': '203.0 cm', 'Weight': '441.0 kg'}      A-Bomb   \n",
       "1   {'Height': '191.0 cm', 'Weight': '65.0 kg'}  Abe Sapien   \n",
       "\n",
       "           Publisher    Height    Weight  \n",
       "0      Marvel Comics  203.0 cm  441.0 kg  \n",
       "1  Dark Horse Comics  191.0 cm   65.0 kg  "
      ]
     },
     "execution_count": 14,
     "metadata": {},
     "output_type": "execute_result"
    }
   ],
   "source": [
    "sh_info =pd.concat((sh_info, ht_wt), axis = 1)\n",
    "sh_info.head(2)"
   ]
  },
  {
   "cell_type": "markdown",
   "id": "3667500e-4066-405f-9e81-f77c7d4166f6",
   "metadata": {},
   "source": [
    "#### Dropping Column"
   ]
  },
  {
   "cell_type": "code",
   "execution_count": 15,
   "id": "5204319a-74ad-4ed1-bb40-53e0801c1fef",
   "metadata": {},
   "outputs": [],
   "source": [
    "sh_info = sh_info.drop(columns=['Measurements'])\n"
   ]
  },
  {
   "cell_type": "code",
   "execution_count": 16,
   "id": "e1c841c3-333a-4f59-bfae-3c6788eaad7d",
   "metadata": {
    "scrolled": false
   },
   "outputs": [
    {
     "data": {
      "text/html": [
       "<div>\n",
       "<style scoped>\n",
       "    .dataframe tbody tr th:only-of-type {\n",
       "        vertical-align: middle;\n",
       "    }\n",
       "\n",
       "    .dataframe tbody tr th {\n",
       "        vertical-align: top;\n",
       "    }\n",
       "\n",
       "    .dataframe thead th {\n",
       "        text-align: right;\n",
       "    }\n",
       "</style>\n",
       "<table border=\"1\" class=\"dataframe\">\n",
       "  <thead>\n",
       "    <tr style=\"text-align: right;\">\n",
       "      <th></th>\n",
       "      <th>Gender</th>\n",
       "      <th>Race</th>\n",
       "      <th>Alignment</th>\n",
       "      <th>Hair color</th>\n",
       "      <th>Eye color</th>\n",
       "      <th>Skin color</th>\n",
       "      <th>Hero</th>\n",
       "      <th>Publisher</th>\n",
       "      <th>Height</th>\n",
       "      <th>Weight</th>\n",
       "    </tr>\n",
       "  </thead>\n",
       "  <tbody>\n",
       "    <tr>\n",
       "      <th>0</th>\n",
       "      <td>Male</td>\n",
       "      <td>Human</td>\n",
       "      <td>good</td>\n",
       "      <td>No Hair</td>\n",
       "      <td>yellow</td>\n",
       "      <td>Unknown</td>\n",
       "      <td>A-Bomb</td>\n",
       "      <td>Marvel Comics</td>\n",
       "      <td>203.0 cm</td>\n",
       "      <td>441.0 kg</td>\n",
       "    </tr>\n",
       "    <tr>\n",
       "      <th>1</th>\n",
       "      <td>Male</td>\n",
       "      <td>Icthyo Sapien</td>\n",
       "      <td>good</td>\n",
       "      <td>No Hair</td>\n",
       "      <td>blue</td>\n",
       "      <td>blue</td>\n",
       "      <td>Abe Sapien</td>\n",
       "      <td>Dark Horse Comics</td>\n",
       "      <td>191.0 cm</td>\n",
       "      <td>65.0 kg</td>\n",
       "    </tr>\n",
       "  </tbody>\n",
       "</table>\n",
       "</div>"
      ],
      "text/plain": [
       "  Gender           Race Alignment Hair color Eye color Skin color        Hero  \\\n",
       "0   Male          Human      good    No Hair    yellow    Unknown      A-Bomb   \n",
       "1   Male  Icthyo Sapien      good    No Hair      blue       blue  Abe Sapien   \n",
       "\n",
       "           Publisher    Height    Weight  \n",
       "0      Marvel Comics  203.0 cm  441.0 kg  \n",
       "1  Dark Horse Comics  191.0 cm   65.0 kg  "
      ]
     },
     "execution_count": 16,
     "metadata": {},
     "output_type": "execute_result"
    }
   ],
   "source": [
    "sh_info.head(2)"
   ]
  },
  {
   "cell_type": "markdown",
   "id": "9060980b",
   "metadata": {},
   "source": [
    "#### Converting Height and Weight into int"
   ]
  },
  {
   "cell_type": "code",
   "execution_count": 17,
   "id": "ad51b840",
   "metadata": {},
   "outputs": [],
   "source": [
    "#Rename column Hight to Height(kg)\n",
    "sh_info = sh_info.rename(columns={'Height': 'Height(cm)'})\n",
    "sh_info = sh_info.rename(columns={'Weight': 'Weight(kg)'})"
   ]
  },
  {
   "cell_type": "code",
   "execution_count": 18,
   "id": "f75f1c46",
   "metadata": {},
   "outputs": [],
   "source": [
    "#Removeing cm and kg from Height and Weight\n",
    "sh_info['Height(cm)'] = sh_info['Height(cm)'].str.rstrip(' cm').astype(float)\n",
    "sh_info['Weight(kg)'] = sh_info['Weight(kg)'].str.rstrip(' kg').astype(float)"
   ]
  },
  {
   "cell_type": "markdown",
   "id": "f441ea47",
   "metadata": {},
   "source": [
    "\n",
    "#### Unique values"
   ]
  },
  {
   "cell_type": "code",
   "execution_count": 19,
   "id": "ac3b92bf",
   "metadata": {
    "scrolled": true
   },
   "outputs": [
    {
     "data": {
      "text/plain": [
       "array([441.,  65.,  90., 122.,  88.,  81., 104., 108., 169., 173., 101.,\n",
       "        68.,  57.,  54.,  83.,  86., 358., 135., 106., 146.,  63.,  98.,\n",
       "       270.,  59.,  50., 126.,  67., 180.,  77.,  52.,  61.,  95.,  79.,\n",
       "       133., 181., 216.,  71., 124., 155., 113.,  58.,  92.,  97.,  56.,\n",
       "       230., 495.,  55.,  99., 158.,  74., 116., 170.,  70., 225., 817.,\n",
       "        27.,  91., 178., 383., 171., 187., 132.,  89., 110., 412., 306.,\n",
       "        80., 203.,  96.,  18.,  45., 167.,  16., 630., 268.,  62., 115.,\n",
       "         4.,  48., 119., 207., 191.,  14.,  49., 855.,  72., 356., 324.,\n",
       "       360., 288., 236.,  36., 140., 128., 338., 248., 125.,  85., 293.,\n",
       "        69., 405.,  87., 234., 117., 320.,  38.,  25., 900., 310., 149.,\n",
       "       315., 153., 437., 131.,  47., 443., 143.,  76., 105., 331., 214.,\n",
       "        73., 334.,  41., 162., 473.,  51.,  17.])"
      ]
     },
     "execution_count": 19,
     "metadata": {},
     "output_type": "execute_result"
    }
   ],
   "source": [
    "sh_info['Weight(kg)'].unique()"
   ]
  },
  {
   "cell_type": "code",
   "execution_count": 20,
   "id": "60ac8017",
   "metadata": {},
   "outputs": [
    {
     "data": {
      "text/plain": [
       "array([203. , 191. , 185. , 193. , 178. , 188. , 180. , 244. , 257. ,\n",
       "       183. , 165. , 163. , 211. , 229. , 213. , 175. , 173. , 198. ,\n",
       "       168. , 170. , 201. , 218. , 196. , 157. , 226. , 267. , 122. ,\n",
       "       975. , 142. , 876. ,  62.5, 701. , 259. , 155. ,  71. , 287. ,\n",
       "       234. ,  64. , 366. , 206. , 305. , 137. , 279. ,  15.2, 160. ,\n",
       "        66. ])"
      ]
     },
     "execution_count": 20,
     "metadata": {},
     "output_type": "execute_result"
    }
   ],
   "source": [
    "sh_info['Height(cm)'].unique()"
   ]
  },
  {
   "cell_type": "markdown",
   "id": "391b522c",
   "metadata": {},
   "source": [
    "#### Finding and removing duplicat rows"
   ]
  },
  {
   "cell_type": "code",
   "execution_count": 21,
   "id": "5d40e15d",
   "metadata": {
    "scrolled": true
   },
   "outputs": [
    {
     "data": {
      "text/plain": [
       "0"
      ]
     },
     "execution_count": 21,
     "metadata": {},
     "output_type": "execute_result"
    }
   ],
   "source": [
    "#find number of duplicat rows\n",
    "sh_info.duplicated().sum()"
   ]
  },
  {
   "cell_type": "markdown",
   "id": "eee5b097",
   "metadata": {},
   "source": [
    "#### Finding Missing Values"
   ]
  },
  {
   "cell_type": "code",
   "execution_count": 22,
   "id": "8e950c28",
   "metadata": {},
   "outputs": [
    {
     "name": "stdout",
     "output_type": "stream",
     "text": [
      "There are 0 missing values.\n"
     ]
    }
   ],
   "source": [
    "# Display the total number of missing values\n",
    "print(f'There are {sh_info.isna().sum().sum()} missing values.')"
   ]
  },
  {
   "cell_type": "markdown",
   "id": "66100b34",
   "metadata": {},
   "source": [
    "#### Reviewing Super Hero Powers df"
   ]
  },
  {
   "cell_type": "code",
   "execution_count": 23,
   "id": "3979d6c2",
   "metadata": {},
   "outputs": [],
   "source": [
    "sh_powers = pd.read_csv(\"data/superhero_powers - superhero_powers.csv\")"
   ]
  },
  {
   "cell_type": "code",
   "execution_count": 24,
   "id": "1f60d5b6",
   "metadata": {
    "scrolled": true
   },
   "outputs": [
    {
     "data": {
      "text/html": [
       "<div>\n",
       "<style scoped>\n",
       "    .dataframe tbody tr th:only-of-type {\n",
       "        vertical-align: middle;\n",
       "    }\n",
       "\n",
       "    .dataframe tbody tr th {\n",
       "        vertical-align: top;\n",
       "    }\n",
       "\n",
       "    .dataframe thead th {\n",
       "        text-align: right;\n",
       "    }\n",
       "</style>\n",
       "<table border=\"1\" class=\"dataframe\">\n",
       "  <thead>\n",
       "    <tr style=\"text-align: right;\">\n",
       "      <th></th>\n",
       "      <th>hero_names</th>\n",
       "      <th>Powers</th>\n",
       "    </tr>\n",
       "  </thead>\n",
       "  <tbody>\n",
       "    <tr>\n",
       "      <th>0</th>\n",
       "      <td>3-D Man</td>\n",
       "      <td>Agility,Super Strength,Stamina,Super Speed</td>\n",
       "    </tr>\n",
       "    <tr>\n",
       "      <th>1</th>\n",
       "      <td>A-Bomb</td>\n",
       "      <td>Accelerated Healing,Durability,Longevity,Super...</td>\n",
       "    </tr>\n",
       "    <tr>\n",
       "      <th>2</th>\n",
       "      <td>Abe Sapien</td>\n",
       "      <td>Agility,Accelerated Healing,Cold Resistance,Du...</td>\n",
       "    </tr>\n",
       "    <tr>\n",
       "      <th>3</th>\n",
       "      <td>Abin Sur</td>\n",
       "      <td>Lantern Power Ring</td>\n",
       "    </tr>\n",
       "    <tr>\n",
       "      <th>4</th>\n",
       "      <td>Abomination</td>\n",
       "      <td>Accelerated Healing,Intelligence,Super Strengt...</td>\n",
       "    </tr>\n",
       "  </tbody>\n",
       "</table>\n",
       "</div>"
      ],
      "text/plain": [
       "    hero_names                                             Powers\n",
       "0      3-D Man         Agility,Super Strength,Stamina,Super Speed\n",
       "1       A-Bomb  Accelerated Healing,Durability,Longevity,Super...\n",
       "2   Abe Sapien  Agility,Accelerated Healing,Cold Resistance,Du...\n",
       "3     Abin Sur                                 Lantern Power Ring\n",
       "4  Abomination  Accelerated Healing,Intelligence,Super Strengt..."
      ]
     },
     "execution_count": 24,
     "metadata": {},
     "output_type": "execute_result"
    }
   ],
   "source": [
    "sh_powers.head()"
   ]
  },
  {
   "cell_type": "code",
   "execution_count": 25,
   "id": "6c9197aa",
   "metadata": {},
   "outputs": [],
   "source": [
    "for index, row in sh_powers.iterrows():\n",
    "    # Access the 'Powers' column\n",
    "    powers_string = row['Powers']\n",
    "    \n",
    "    # Split the string into a list using a delimiter (comma)\n",
    "    powers_list = powers_string.split(',')\n",
    "    \n",
    "    # Assign the list back to the 'Powers' column\n",
    "    sh_powers.at[index, 'Powers'] = powers_list\n"
   ]
  },
  {
   "cell_type": "code",
   "execution_count": 26,
   "id": "82ef1a95",
   "metadata": {
    "scrolled": true
   },
   "outputs": [
    {
     "data": {
      "text/html": [
       "<div>\n",
       "<style scoped>\n",
       "    .dataframe tbody tr th:only-of-type {\n",
       "        vertical-align: middle;\n",
       "    }\n",
       "\n",
       "    .dataframe tbody tr th {\n",
       "        vertical-align: top;\n",
       "    }\n",
       "\n",
       "    .dataframe thead th {\n",
       "        text-align: right;\n",
       "    }\n",
       "</style>\n",
       "<table border=\"1\" class=\"dataframe\">\n",
       "  <thead>\n",
       "    <tr style=\"text-align: right;\">\n",
       "      <th></th>\n",
       "      <th>hero_names</th>\n",
       "      <th>Powers</th>\n",
       "    </tr>\n",
       "  </thead>\n",
       "  <tbody>\n",
       "    <tr>\n",
       "      <th>0</th>\n",
       "      <td>3-D Man</td>\n",
       "      <td>[Agility, Super Strength, Stamina, Super Speed]</td>\n",
       "    </tr>\n",
       "    <tr>\n",
       "      <th>1</th>\n",
       "      <td>A-Bomb</td>\n",
       "      <td>[Accelerated Healing, Durability, Longevity, S...</td>\n",
       "    </tr>\n",
       "    <tr>\n",
       "      <th>2</th>\n",
       "      <td>Abe Sapien</td>\n",
       "      <td>[Agility, Accelerated Healing, Cold Resistance...</td>\n",
       "    </tr>\n",
       "    <tr>\n",
       "      <th>3</th>\n",
       "      <td>Abin Sur</td>\n",
       "      <td>[Lantern Power Ring]</td>\n",
       "    </tr>\n",
       "    <tr>\n",
       "      <th>4</th>\n",
       "      <td>Abomination</td>\n",
       "      <td>[Accelerated Healing, Intelligence, Super Stre...</td>\n",
       "    </tr>\n",
       "  </tbody>\n",
       "</table>\n",
       "</div>"
      ],
      "text/plain": [
       "    hero_names                                             Powers\n",
       "0      3-D Man    [Agility, Super Strength, Stamina, Super Speed]\n",
       "1       A-Bomb  [Accelerated Healing, Durability, Longevity, S...\n",
       "2   Abe Sapien  [Agility, Accelerated Healing, Cold Resistance...\n",
       "3     Abin Sur                               [Lantern Power Ring]\n",
       "4  Abomination  [Accelerated Healing, Intelligence, Super Stre..."
      ]
     },
     "execution_count": 26,
     "metadata": {},
     "output_type": "execute_result"
    }
   ],
   "source": [
    "sh_powers.head()"
   ]
  },
  {
   "cell_type": "code",
   "execution_count": 27,
   "id": "cb314ab7",
   "metadata": {
    "scrolled": true
   },
   "outputs": [],
   "source": [
    "# Explode the 'Powers' column into separate columns using one-hot encoding\n",
    "exploded_powers = pd.get_dummies(sh_powers['Powers'].apply(pd.Series).stack()).groupby(level=0).sum()\n",
    "\n",
    "# Concatenate the exploded powers columns with the original DataFrame\n",
    "sh_powers = pd.concat([sh_powers, exploded_powers], axis=1)"
   ]
  },
  {
   "cell_type": "code",
   "execution_count": 29,
   "id": "15cfdbf9",
   "metadata": {
    "scrolled": true
   },
   "outputs": [
    {
     "data": {
      "text/html": [
       "<div>\n",
       "<style scoped>\n",
       "    .dataframe tbody tr th:only-of-type {\n",
       "        vertical-align: middle;\n",
       "    }\n",
       "\n",
       "    .dataframe tbody tr th {\n",
       "        vertical-align: top;\n",
       "    }\n",
       "\n",
       "    .dataframe thead th {\n",
       "        text-align: right;\n",
       "    }\n",
       "</style>\n",
       "<table border=\"1\" class=\"dataframe\">\n",
       "  <thead>\n",
       "    <tr style=\"text-align: right;\">\n",
       "      <th></th>\n",
       "      <th>hero_names</th>\n",
       "      <th>Powers</th>\n",
       "      <th>Accelerated Healing</th>\n",
       "      <th>Adaptation</th>\n",
       "      <th>Agility</th>\n",
       "      <th>Animal Attributes</th>\n",
       "      <th>Animal Control</th>\n",
       "      <th>Animal Oriented Powers</th>\n",
       "      <th>Animation</th>\n",
       "      <th>Anti-Gravity</th>\n",
       "      <th>...</th>\n",
       "      <th>Vision - Thermal</th>\n",
       "      <th>Vision - X-Ray</th>\n",
       "      <th>Vitakinesis</th>\n",
       "      <th>Wallcrawling</th>\n",
       "      <th>Water Control</th>\n",
       "      <th>Weapon-based Powers</th>\n",
       "      <th>Weapons Master</th>\n",
       "      <th>Weather Control</th>\n",
       "      <th>Web Creation</th>\n",
       "      <th>Wind Control</th>\n",
       "    </tr>\n",
       "  </thead>\n",
       "  <tbody>\n",
       "    <tr>\n",
       "      <th>0</th>\n",
       "      <td>3-D Man</td>\n",
       "      <td>[Agility, Super Strength, Stamina, Super Speed]</td>\n",
       "      <td>0</td>\n",
       "      <td>0</td>\n",
       "      <td>1</td>\n",
       "      <td>0</td>\n",
       "      <td>0</td>\n",
       "      <td>0</td>\n",
       "      <td>0</td>\n",
       "      <td>0</td>\n",
       "      <td>...</td>\n",
       "      <td>0</td>\n",
       "      <td>0</td>\n",
       "      <td>0</td>\n",
       "      <td>0</td>\n",
       "      <td>0</td>\n",
       "      <td>0</td>\n",
       "      <td>0</td>\n",
       "      <td>0</td>\n",
       "      <td>0</td>\n",
       "      <td>0</td>\n",
       "    </tr>\n",
       "    <tr>\n",
       "      <th>1</th>\n",
       "      <td>A-Bomb</td>\n",
       "      <td>[Accelerated Healing, Durability, Longevity, S...</td>\n",
       "      <td>1</td>\n",
       "      <td>0</td>\n",
       "      <td>0</td>\n",
       "      <td>0</td>\n",
       "      <td>0</td>\n",
       "      <td>0</td>\n",
       "      <td>0</td>\n",
       "      <td>0</td>\n",
       "      <td>...</td>\n",
       "      <td>0</td>\n",
       "      <td>0</td>\n",
       "      <td>0</td>\n",
       "      <td>0</td>\n",
       "      <td>0</td>\n",
       "      <td>0</td>\n",
       "      <td>0</td>\n",
       "      <td>0</td>\n",
       "      <td>0</td>\n",
       "      <td>0</td>\n",
       "    </tr>\n",
       "    <tr>\n",
       "      <th>2</th>\n",
       "      <td>Abe Sapien</td>\n",
       "      <td>[Agility, Accelerated Healing, Cold Resistance...</td>\n",
       "      <td>1</td>\n",
       "      <td>0</td>\n",
       "      <td>1</td>\n",
       "      <td>0</td>\n",
       "      <td>0</td>\n",
       "      <td>0</td>\n",
       "      <td>0</td>\n",
       "      <td>0</td>\n",
       "      <td>...</td>\n",
       "      <td>0</td>\n",
       "      <td>0</td>\n",
       "      <td>0</td>\n",
       "      <td>0</td>\n",
       "      <td>0</td>\n",
       "      <td>0</td>\n",
       "      <td>1</td>\n",
       "      <td>0</td>\n",
       "      <td>0</td>\n",
       "      <td>0</td>\n",
       "    </tr>\n",
       "    <tr>\n",
       "      <th>3</th>\n",
       "      <td>Abin Sur</td>\n",
       "      <td>[Lantern Power Ring]</td>\n",
       "      <td>0</td>\n",
       "      <td>0</td>\n",
       "      <td>0</td>\n",
       "      <td>0</td>\n",
       "      <td>0</td>\n",
       "      <td>0</td>\n",
       "      <td>0</td>\n",
       "      <td>0</td>\n",
       "      <td>...</td>\n",
       "      <td>0</td>\n",
       "      <td>0</td>\n",
       "      <td>0</td>\n",
       "      <td>0</td>\n",
       "      <td>0</td>\n",
       "      <td>0</td>\n",
       "      <td>0</td>\n",
       "      <td>0</td>\n",
       "      <td>0</td>\n",
       "      <td>0</td>\n",
       "    </tr>\n",
       "    <tr>\n",
       "      <th>4</th>\n",
       "      <td>Abomination</td>\n",
       "      <td>[Accelerated Healing, Intelligence, Super Stre...</td>\n",
       "      <td>1</td>\n",
       "      <td>0</td>\n",
       "      <td>0</td>\n",
       "      <td>0</td>\n",
       "      <td>0</td>\n",
       "      <td>0</td>\n",
       "      <td>1</td>\n",
       "      <td>0</td>\n",
       "      <td>...</td>\n",
       "      <td>0</td>\n",
       "      <td>0</td>\n",
       "      <td>0</td>\n",
       "      <td>0</td>\n",
       "      <td>0</td>\n",
       "      <td>0</td>\n",
       "      <td>0</td>\n",
       "      <td>0</td>\n",
       "      <td>0</td>\n",
       "      <td>0</td>\n",
       "    </tr>\n",
       "  </tbody>\n",
       "</table>\n",
       "<p>5 rows × 169 columns</p>\n",
       "</div>"
      ],
      "text/plain": [
       "    hero_names                                             Powers  \\\n",
       "0      3-D Man    [Agility, Super Strength, Stamina, Super Speed]   \n",
       "1       A-Bomb  [Accelerated Healing, Durability, Longevity, S...   \n",
       "2   Abe Sapien  [Agility, Accelerated Healing, Cold Resistance...   \n",
       "3     Abin Sur                               [Lantern Power Ring]   \n",
       "4  Abomination  [Accelerated Healing, Intelligence, Super Stre...   \n",
       "\n",
       "   Accelerated Healing  Adaptation  Agility  Animal Attributes  \\\n",
       "0                    0           0        1                  0   \n",
       "1                    1           0        0                  0   \n",
       "2                    1           0        1                  0   \n",
       "3                    0           0        0                  0   \n",
       "4                    1           0        0                  0   \n",
       "\n",
       "   Animal Control  Animal Oriented Powers  Animation  Anti-Gravity  ...  \\\n",
       "0               0                       0          0             0  ...   \n",
       "1               0                       0          0             0  ...   \n",
       "2               0                       0          0             0  ...   \n",
       "3               0                       0          0             0  ...   \n",
       "4               0                       0          1             0  ...   \n",
       "\n",
       "   Vision - Thermal  Vision - X-Ray  Vitakinesis  Wallcrawling  Water Control  \\\n",
       "0                 0               0            0             0              0   \n",
       "1                 0               0            0             0              0   \n",
       "2                 0               0            0             0              0   \n",
       "3                 0               0            0             0              0   \n",
       "4                 0               0            0             0              0   \n",
       "\n",
       "   Weapon-based Powers  Weapons Master  Weather Control  Web Creation  \\\n",
       "0                    0               0                0             0   \n",
       "1                    0               0                0             0   \n",
       "2                    0               1                0             0   \n",
       "3                    0               0                0             0   \n",
       "4                    0               0                0             0   \n",
       "\n",
       "   Wind Control  \n",
       "0             0  \n",
       "1             0  \n",
       "2             0  \n",
       "3             0  \n",
       "4             0  \n",
       "\n",
       "[5 rows x 169 columns]"
      ]
     },
     "execution_count": 29,
     "metadata": {},
     "output_type": "execute_result"
    }
   ],
   "source": [
    "sh_powers.head()"
   ]
  },
  {
   "cell_type": "code",
   "execution_count": 31,
   "id": "5c7b8957",
   "metadata": {},
   "outputs": [
    {
     "data": {
      "text/html": [
       "<div>\n",
       "<style scoped>\n",
       "    .dataframe tbody tr th:only-of-type {\n",
       "        vertical-align: middle;\n",
       "    }\n",
       "\n",
       "    .dataframe tbody tr th {\n",
       "        vertical-align: top;\n",
       "    }\n",
       "\n",
       "    .dataframe thead th {\n",
       "        text-align: right;\n",
       "    }\n",
       "</style>\n",
       "<table border=\"1\" class=\"dataframe\">\n",
       "  <thead>\n",
       "    <tr style=\"text-align: right;\">\n",
       "      <th></th>\n",
       "      <th>hero_names</th>\n",
       "      <th>Powers</th>\n",
       "      <th>Accelerated Healing</th>\n",
       "      <th>Adaptation</th>\n",
       "      <th>Agility</th>\n",
       "      <th>Animal Attributes</th>\n",
       "      <th>Animal Control</th>\n",
       "      <th>Animal Oriented Powers</th>\n",
       "      <th>Animation</th>\n",
       "      <th>Anti-Gravity</th>\n",
       "      <th>...</th>\n",
       "      <th>Vision - Thermal</th>\n",
       "      <th>Vision - X-Ray</th>\n",
       "      <th>Vitakinesis</th>\n",
       "      <th>Wallcrawling</th>\n",
       "      <th>Water Control</th>\n",
       "      <th>Weapon-based Powers</th>\n",
       "      <th>Weapons Master</th>\n",
       "      <th>Weather Control</th>\n",
       "      <th>Web Creation</th>\n",
       "      <th>Wind Control</th>\n",
       "    </tr>\n",
       "  </thead>\n",
       "  <tbody>\n",
       "    <tr>\n",
       "      <th>0</th>\n",
       "      <td>3-D Man</td>\n",
       "      <td>[Agility, Super Strength, Stamina, Super Speed]</td>\n",
       "      <td>0</td>\n",
       "      <td>0</td>\n",
       "      <td>1</td>\n",
       "      <td>0</td>\n",
       "      <td>0</td>\n",
       "      <td>0</td>\n",
       "      <td>0</td>\n",
       "      <td>0</td>\n",
       "      <td>...</td>\n",
       "      <td>0</td>\n",
       "      <td>0</td>\n",
       "      <td>0</td>\n",
       "      <td>0</td>\n",
       "      <td>0</td>\n",
       "      <td>0</td>\n",
       "      <td>0</td>\n",
       "      <td>0</td>\n",
       "      <td>0</td>\n",
       "      <td>0</td>\n",
       "    </tr>\n",
       "    <tr>\n",
       "      <th>1</th>\n",
       "      <td>A-Bomb</td>\n",
       "      <td>[Accelerated Healing, Durability, Longevity, S...</td>\n",
       "      <td>1</td>\n",
       "      <td>0</td>\n",
       "      <td>0</td>\n",
       "      <td>0</td>\n",
       "      <td>0</td>\n",
       "      <td>0</td>\n",
       "      <td>0</td>\n",
       "      <td>0</td>\n",
       "      <td>...</td>\n",
       "      <td>0</td>\n",
       "      <td>0</td>\n",
       "      <td>0</td>\n",
       "      <td>0</td>\n",
       "      <td>0</td>\n",
       "      <td>0</td>\n",
       "      <td>0</td>\n",
       "      <td>0</td>\n",
       "      <td>0</td>\n",
       "      <td>0</td>\n",
       "    </tr>\n",
       "    <tr>\n",
       "      <th>2</th>\n",
       "      <td>Abe Sapien</td>\n",
       "      <td>[Agility, Accelerated Healing, Cold Resistance...</td>\n",
       "      <td>1</td>\n",
       "      <td>0</td>\n",
       "      <td>1</td>\n",
       "      <td>0</td>\n",
       "      <td>0</td>\n",
       "      <td>0</td>\n",
       "      <td>0</td>\n",
       "      <td>0</td>\n",
       "      <td>...</td>\n",
       "      <td>0</td>\n",
       "      <td>0</td>\n",
       "      <td>0</td>\n",
       "      <td>0</td>\n",
       "      <td>0</td>\n",
       "      <td>0</td>\n",
       "      <td>1</td>\n",
       "      <td>0</td>\n",
       "      <td>0</td>\n",
       "      <td>0</td>\n",
       "    </tr>\n",
       "    <tr>\n",
       "      <th>3</th>\n",
       "      <td>Abin Sur</td>\n",
       "      <td>[Lantern Power Ring]</td>\n",
       "      <td>0</td>\n",
       "      <td>0</td>\n",
       "      <td>0</td>\n",
       "      <td>0</td>\n",
       "      <td>0</td>\n",
       "      <td>0</td>\n",
       "      <td>0</td>\n",
       "      <td>0</td>\n",
       "      <td>...</td>\n",
       "      <td>0</td>\n",
       "      <td>0</td>\n",
       "      <td>0</td>\n",
       "      <td>0</td>\n",
       "      <td>0</td>\n",
       "      <td>0</td>\n",
       "      <td>0</td>\n",
       "      <td>0</td>\n",
       "      <td>0</td>\n",
       "      <td>0</td>\n",
       "    </tr>\n",
       "    <tr>\n",
       "      <th>4</th>\n",
       "      <td>Abomination</td>\n",
       "      <td>[Accelerated Healing, Intelligence, Super Stre...</td>\n",
       "      <td>1</td>\n",
       "      <td>0</td>\n",
       "      <td>0</td>\n",
       "      <td>0</td>\n",
       "      <td>0</td>\n",
       "      <td>0</td>\n",
       "      <td>1</td>\n",
       "      <td>0</td>\n",
       "      <td>...</td>\n",
       "      <td>0</td>\n",
       "      <td>0</td>\n",
       "      <td>0</td>\n",
       "      <td>0</td>\n",
       "      <td>0</td>\n",
       "      <td>0</td>\n",
       "      <td>0</td>\n",
       "      <td>0</td>\n",
       "      <td>0</td>\n",
       "      <td>0</td>\n",
       "    </tr>\n",
       "  </tbody>\n",
       "</table>\n",
       "<p>5 rows × 169 columns</p>\n",
       "</div>"
      ],
      "text/plain": [
       "    hero_names                                             Powers  \\\n",
       "0      3-D Man    [Agility, Super Strength, Stamina, Super Speed]   \n",
       "1       A-Bomb  [Accelerated Healing, Durability, Longevity, S...   \n",
       "2   Abe Sapien  [Agility, Accelerated Healing, Cold Resistance...   \n",
       "3     Abin Sur                               [Lantern Power Ring]   \n",
       "4  Abomination  [Accelerated Healing, Intelligence, Super Stre...   \n",
       "\n",
       "   Accelerated Healing  Adaptation  Agility  Animal Attributes  \\\n",
       "0                    0           0        1                  0   \n",
       "1                    1           0        0                  0   \n",
       "2                    1           0        1                  0   \n",
       "3                    0           0        0                  0   \n",
       "4                    1           0        0                  0   \n",
       "\n",
       "   Animal Control  Animal Oriented Powers  Animation  Anti-Gravity  ...  \\\n",
       "0               0                       0          0             0  ...   \n",
       "1               0                       0          0             0  ...   \n",
       "2               0                       0          0             0  ...   \n",
       "3               0                       0          0             0  ...   \n",
       "4               0                       0          1             0  ...   \n",
       "\n",
       "   Vision - Thermal  Vision - X-Ray  Vitakinesis  Wallcrawling  Water Control  \\\n",
       "0                 0               0            0             0              0   \n",
       "1                 0               0            0             0              0   \n",
       "2                 0               0            0             0              0   \n",
       "3                 0               0            0             0              0   \n",
       "4                 0               0            0             0              0   \n",
       "\n",
       "   Weapon-based Powers  Weapons Master  Weather Control  Web Creation  \\\n",
       "0                    0               0                0             0   \n",
       "1                    0               0                0             0   \n",
       "2                    0               1                0             0   \n",
       "3                    0               0                0             0   \n",
       "4                    0               0                0             0   \n",
       "\n",
       "   Wind Control  \n",
       "0             0  \n",
       "1             0  \n",
       "2             0  \n",
       "3             0  \n",
       "4             0  \n",
       "\n",
       "[5 rows x 169 columns]"
      ]
     },
     "execution_count": 31,
     "metadata": {},
     "output_type": "execute_result"
    }
   ],
   "source": [
    "sh_powers.head()"
   ]
  },
  {
   "cell_type": "code",
   "execution_count": 32,
   "id": "18a70aa3",
   "metadata": {},
   "outputs": [],
   "source": [
    "merged_df = pd.merge(sh_info, sh_powers, left_on='Hero', right_on='hero_names')"
   ]
  },
  {
   "cell_type": "code",
   "execution_count": 33,
   "id": "52b6a5b1",
   "metadata": {
    "scrolled": true
   },
   "outputs": [
    {
     "data": {
      "text/html": [
       "<div>\n",
       "<style scoped>\n",
       "    .dataframe tbody tr th:only-of-type {\n",
       "        vertical-align: middle;\n",
       "    }\n",
       "\n",
       "    .dataframe tbody tr th {\n",
       "        vertical-align: top;\n",
       "    }\n",
       "\n",
       "    .dataframe thead th {\n",
       "        text-align: right;\n",
       "    }\n",
       "</style>\n",
       "<table border=\"1\" class=\"dataframe\">\n",
       "  <thead>\n",
       "    <tr style=\"text-align: right;\">\n",
       "      <th></th>\n",
       "      <th>Gender</th>\n",
       "      <th>Race</th>\n",
       "      <th>Alignment</th>\n",
       "      <th>Hair color</th>\n",
       "      <th>Eye color</th>\n",
       "      <th>Skin color</th>\n",
       "      <th>Hero</th>\n",
       "      <th>Publisher</th>\n",
       "      <th>Height(cm)</th>\n",
       "      <th>Weight(kg)</th>\n",
       "      <th>...</th>\n",
       "      <th>Vision - Thermal</th>\n",
       "      <th>Vision - X-Ray</th>\n",
       "      <th>Vitakinesis</th>\n",
       "      <th>Wallcrawling</th>\n",
       "      <th>Water Control</th>\n",
       "      <th>Weapon-based Powers</th>\n",
       "      <th>Weapons Master</th>\n",
       "      <th>Weather Control</th>\n",
       "      <th>Web Creation</th>\n",
       "      <th>Wind Control</th>\n",
       "    </tr>\n",
       "  </thead>\n",
       "  <tbody>\n",
       "    <tr>\n",
       "      <th>0</th>\n",
       "      <td>Male</td>\n",
       "      <td>Human</td>\n",
       "      <td>good</td>\n",
       "      <td>No Hair</td>\n",
       "      <td>yellow</td>\n",
       "      <td>Unknown</td>\n",
       "      <td>A-Bomb</td>\n",
       "      <td>Marvel Comics</td>\n",
       "      <td>203.0</td>\n",
       "      <td>441.0</td>\n",
       "      <td>...</td>\n",
       "      <td>0</td>\n",
       "      <td>0</td>\n",
       "      <td>0</td>\n",
       "      <td>0</td>\n",
       "      <td>0</td>\n",
       "      <td>0</td>\n",
       "      <td>0</td>\n",
       "      <td>0</td>\n",
       "      <td>0</td>\n",
       "      <td>0</td>\n",
       "    </tr>\n",
       "    <tr>\n",
       "      <th>1</th>\n",
       "      <td>Male</td>\n",
       "      <td>Icthyo Sapien</td>\n",
       "      <td>good</td>\n",
       "      <td>No Hair</td>\n",
       "      <td>blue</td>\n",
       "      <td>blue</td>\n",
       "      <td>Abe Sapien</td>\n",
       "      <td>Dark Horse Comics</td>\n",
       "      <td>191.0</td>\n",
       "      <td>65.0</td>\n",
       "      <td>...</td>\n",
       "      <td>0</td>\n",
       "      <td>0</td>\n",
       "      <td>0</td>\n",
       "      <td>0</td>\n",
       "      <td>0</td>\n",
       "      <td>0</td>\n",
       "      <td>1</td>\n",
       "      <td>0</td>\n",
       "      <td>0</td>\n",
       "      <td>0</td>\n",
       "    </tr>\n",
       "    <tr>\n",
       "      <th>2</th>\n",
       "      <td>Male</td>\n",
       "      <td>Ungaran</td>\n",
       "      <td>good</td>\n",
       "      <td>No Hair</td>\n",
       "      <td>blue</td>\n",
       "      <td>red</td>\n",
       "      <td>Abin Sur</td>\n",
       "      <td>DC Comics</td>\n",
       "      <td>185.0</td>\n",
       "      <td>90.0</td>\n",
       "      <td>...</td>\n",
       "      <td>0</td>\n",
       "      <td>0</td>\n",
       "      <td>0</td>\n",
       "      <td>0</td>\n",
       "      <td>0</td>\n",
       "      <td>0</td>\n",
       "      <td>0</td>\n",
       "      <td>0</td>\n",
       "      <td>0</td>\n",
       "      <td>0</td>\n",
       "    </tr>\n",
       "    <tr>\n",
       "      <th>3</th>\n",
       "      <td>Male</td>\n",
       "      <td>Human / Radiation</td>\n",
       "      <td>bad</td>\n",
       "      <td>No Hair</td>\n",
       "      <td>green</td>\n",
       "      <td>Unknown</td>\n",
       "      <td>Abomination</td>\n",
       "      <td>Marvel Comics</td>\n",
       "      <td>203.0</td>\n",
       "      <td>441.0</td>\n",
       "      <td>...</td>\n",
       "      <td>0</td>\n",
       "      <td>0</td>\n",
       "      <td>0</td>\n",
       "      <td>0</td>\n",
       "      <td>0</td>\n",
       "      <td>0</td>\n",
       "      <td>0</td>\n",
       "      <td>0</td>\n",
       "      <td>0</td>\n",
       "      <td>0</td>\n",
       "    </tr>\n",
       "    <tr>\n",
       "      <th>4</th>\n",
       "      <td>Male</td>\n",
       "      <td>Human</td>\n",
       "      <td>bad</td>\n",
       "      <td>No Hair</td>\n",
       "      <td>blue</td>\n",
       "      <td>Unknown</td>\n",
       "      <td>Absorbing Man</td>\n",
       "      <td>Marvel Comics</td>\n",
       "      <td>193.0</td>\n",
       "      <td>122.0</td>\n",
       "      <td>...</td>\n",
       "      <td>0</td>\n",
       "      <td>0</td>\n",
       "      <td>0</td>\n",
       "      <td>0</td>\n",
       "      <td>0</td>\n",
       "      <td>0</td>\n",
       "      <td>0</td>\n",
       "      <td>0</td>\n",
       "      <td>0</td>\n",
       "      <td>0</td>\n",
       "    </tr>\n",
       "  </tbody>\n",
       "</table>\n",
       "<p>5 rows × 179 columns</p>\n",
       "</div>"
      ],
      "text/plain": [
       "  Gender               Race Alignment Hair color Eye color Skin color  \\\n",
       "0   Male              Human      good    No Hair    yellow    Unknown   \n",
       "1   Male      Icthyo Sapien      good    No Hair      blue       blue   \n",
       "2   Male            Ungaran      good    No Hair      blue        red   \n",
       "3   Male  Human / Radiation       bad    No Hair     green    Unknown   \n",
       "4   Male              Human       bad    No Hair      blue    Unknown   \n",
       "\n",
       "            Hero          Publisher  Height(cm)  Weight(kg)  ...  \\\n",
       "0         A-Bomb      Marvel Comics       203.0       441.0  ...   \n",
       "1     Abe Sapien  Dark Horse Comics       191.0        65.0  ...   \n",
       "2       Abin Sur          DC Comics       185.0        90.0  ...   \n",
       "3    Abomination      Marvel Comics       203.0       441.0  ...   \n",
       "4  Absorbing Man      Marvel Comics       193.0       122.0  ...   \n",
       "\n",
       "  Vision - Thermal Vision - X-Ray  Vitakinesis  Wallcrawling  Water Control  \\\n",
       "0                0              0            0             0              0   \n",
       "1                0              0            0             0              0   \n",
       "2                0              0            0             0              0   \n",
       "3                0              0            0             0              0   \n",
       "4                0              0            0             0              0   \n",
       "\n",
       "   Weapon-based Powers  Weapons Master  Weather Control  Web Creation  \\\n",
       "0                    0               0                0             0   \n",
       "1                    0               1                0             0   \n",
       "2                    0               0                0             0   \n",
       "3                    0               0                0             0   \n",
       "4                    0               0                0             0   \n",
       "\n",
       "   Wind Control  \n",
       "0             0  \n",
       "1             0  \n",
       "2             0  \n",
       "3             0  \n",
       "4             0  \n",
       "\n",
       "[5 rows x 179 columns]"
      ]
     },
     "execution_count": 33,
     "metadata": {},
     "output_type": "execute_result"
    }
   ],
   "source": [
    "merged_df.head()"
   ]
  },
  {
   "cell_type": "markdown",
   "id": "95933559",
   "metadata": {},
   "source": [
    "#### Validating success of merge"
   ]
  },
  {
   "cell_type": "code",
   "execution_count": 34,
   "id": "19071072",
   "metadata": {
    "scrolled": true
   },
   "outputs": [
    {
     "data": {
      "text/plain": [
       "0      1\n",
       "1      1\n",
       "2      0\n",
       "3      1\n",
       "4      0\n",
       "      ..\n",
       "458    0\n",
       "459    0\n",
       "460    0\n",
       "461    0\n",
       "462    0\n",
       "Name: Accelerated Healing, Length: 463, dtype: uint8"
      ]
     },
     "execution_count": 34,
     "metadata": {},
     "output_type": "execute_result"
    }
   ],
   "source": [
    "merged_df['Accelerated Healing']"
   ]
  },
  {
   "cell_type": "markdown",
   "id": "41dc4edd",
   "metadata": {},
   "source": [
    "* Merge succesfull A-Bomb has Accelerated Healing in 0 column"
   ]
  },
  {
   "cell_type": "code",
   "execution_count": 35,
   "id": "94de8c6f",
   "metadata": {},
   "outputs": [],
   "source": [
    "merged_df = merged_df.drop('hero_names', axis=1)"
   ]
  },
  {
   "cell_type": "markdown",
   "id": "b86f247b",
   "metadata": {},
   "source": [
    "#### What is the avg weight for Heros with Super Speed"
   ]
  },
  {
   "cell_type": "code",
   "execution_count": 36,
   "id": "c8d31ad1",
   "metadata": {},
   "outputs": [],
   "source": [
    "filtered_df = merged_df[merged_df['Super Speed'] == 1]"
   ]
  },
  {
   "cell_type": "code",
   "execution_count": 37,
   "id": "e2f42c7a",
   "metadata": {},
   "outputs": [],
   "source": [
    "average_weight_superspeed = filtered_df['Weight(kg)'].mean()"
   ]
  },
  {
   "cell_type": "code",
   "execution_count": 38,
   "id": "345b72e1",
   "metadata": {},
   "outputs": [
    {
     "name": "stdout",
     "output_type": "stream",
     "text": [
      "129.40404040404042\n"
     ]
    }
   ],
   "source": [
    "print(average_weight_superspeed)"
   ]
  },
  {
   "cell_type": "markdown",
   "id": "d3f0a04e",
   "metadata": {},
   "source": [
    "#### What is the avg weight for Heros without Super Speed"
   ]
  },
  {
   "cell_type": "code",
   "execution_count": 39,
   "id": "c3cada99",
   "metadata": {},
   "outputs": [],
   "source": [
    "filtered_df = merged_df[merged_df['Super Speed'] == 0]"
   ]
  },
  {
   "cell_type": "code",
   "execution_count": 40,
   "id": "dcb53885",
   "metadata": {},
   "outputs": [],
   "source": [
    "average_weight_slowpoke = filtered_df['Weight(kg)'].mean()"
   ]
  },
  {
   "cell_type": "code",
   "execution_count": 41,
   "id": "217dcdf6",
   "metadata": {
    "scrolled": true
   },
   "outputs": [
    {
     "name": "stdout",
     "output_type": "stream",
     "text": [
      "101.77358490566037\n"
     ]
    }
   ],
   "source": [
    "print(average_weight_slowpoke)"
   ]
  },
  {
   "cell_type": "markdown",
   "id": "7a315cbd",
   "metadata": {},
   "source": [
    "#### What is the average height by publishing comapny"
   ]
  },
  {
   "cell_type": "code",
   "execution_count": 42,
   "id": "c6342982",
   "metadata": {},
   "outputs": [],
   "source": [
    "publishers=merged_df['Publisher'].unique()"
   ]
  },
  {
   "cell_type": "code",
   "execution_count": 43,
   "id": "a3f748a0",
   "metadata": {},
   "outputs": [
    {
     "name": "stdout",
     "output_type": "stream",
     "text": [
      "Average height for Marvel Comics: 191.54612794612794 cm\n",
      "Average height for Dark Horse Comics: 176.9090909090909 cm\n",
      "Average height for DC Comics: 181.92391304347825 cm\n",
      "Average height for Team Epic TV: 180.75 cm\n",
      "Average height for George Lucas: 159.6 cm\n",
      "Average height for Shueisha: 171.5 cm\n",
      "Average height for Star Trek: 181.5 cm\n",
      "Average height for Unknown: 178.0 cm\n",
      "Average height for Image Comics: 211.0 cm\n"
     ]
    }
   ],
   "source": [
    "for publisher in publishers:\n",
    "    average_height = merged_df.loc[merged_df['Publisher'] == publisher, 'Height(cm)'].mean()\n",
    "    print(f\"Average height for {publisher}: {average_height} cm\")"
   ]
  }
 ],
 "metadata": {
  "kernelspec": {
   "display_name": "Python (dojo-env)",
   "language": "python",
   "name": "dojo-env"
  },
  "language_info": {
   "codemirror_mode": {
    "name": "ipython",
    "version": 3
   },
   "file_extension": ".py",
   "mimetype": "text/x-python",
   "name": "python",
   "nbconvert_exporter": "python",
   "pygments_lexer": "ipython3",
   "version": "3.9.15"
  },
  "toc": {
   "base_numbering": 1,
   "nav_menu": {},
   "number_sections": false,
   "sideBar": true,
   "skip_h1_title": false,
   "title_cell": "Table of Contents",
   "title_sidebar": "Contents",
   "toc_cell": false,
   "toc_position": {},
   "toc_section_display": true,
   "toc_window_display": false
  }
 },
 "nbformat": 4,
 "nbformat_minor": 5
}
